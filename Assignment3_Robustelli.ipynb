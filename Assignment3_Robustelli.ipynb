{
 "cells": [
  {
   "cell_type": "code",
   "execution_count": 145,
   "metadata": {},
   "outputs": [],
   "source": [
    "import mdtraj as md\n",
    "import os\n",
    "import sys\n",
    "import numpy as np\n",
    "import matplotlib.pyplot as plt\n",
    "from matplotlib import colors\n",
    "import math\n",
    "from numpy import log2, zeros, mean, var, sum, loadtxt, arange, \\\n",
    "                  array, cumsum, dot, transpose, diagonal, floor\n",
    "from numpy.linalg import inv, lstsq\n",
    "import pandas as pd\n",
    "import nglview as nv"
   ]
  },
  {
   "cell_type": "markdown",
   "metadata": {},
   "source": [
    "https://figshare.com/articles/dataset/Microsecond_molecular_dynamics_simulation_of_kinase_domain_of_the_human_tyrosine_kinase_ABL1/4496795/1\n",
    "\n",
    "This is a one microsecond trajectory of the catalytic domain of the human tyrosine protein kinase ABL1 (UNIPROT:ABL1_HUMAN, residues 242-493). The simulation was generated on Folding@home using OpenMM 6.3.1 with the AMBER99SB-ILDN forcefield, TIP3P water, and neutralizing salt. A Langevin integrator with 2 fs timestep, 300 K temperature, and 1/ps collision rate was used. PME with a nonbonded cutoff of 1.0 nm was used with default tolerance of 5.0e-4. A long-range isotropic dispersion correction was used to correct for the truncation of Lennard-Jones interactions at 1.0 nm. A molecular-scaling Monte Carlo barostat was applied using a 1 atm reference pressure, with MC moves attempted every 50 steps. Coordinates were saved every 250ps, and waters and ions stripped. The trajectory file contains 4000 snapshots. Initial models were generated with Ensembler (see References) using the ABL1 structure from chain B of PDB ID: 2GQG as a template.\n",
    "\n",
    "https://www.rcsb.org/structure/2GQG\n",
    "\n",
    "Trajetories and pdb can be downloaded here:\n",
    "https://www.dropbox.com/s/qymy39ak2apqd75/ABL1.zip?dl=0\n"
   ]
  },
  {
   "cell_type": "code",
   "execution_count": 2,
   "metadata": {},
   "outputs": [
    {
     "name": "stdout",
     "output_type": "stream",
     "text": [
      "outdir: /home/t/comp_chem_class/ABL1\n",
      "pdb: /home/t/comp_chem_class/ABL1/ABL1.pdb\n",
      "trjaectory: /home/t/comp_chem_class/ABL1/ABL1.dcd\n"
     ]
    }
   ],
   "source": [
    "pdb='/home/t/comp_chem_class/ABL1/ABL1.pdb'\n",
    "trajectory='/home/t/comp_chem_class/ABL1/ABL1.dcd'\n",
    "outdir='/home/t/comp_chem_class/ABL1'\n",
    "if not os.path.exists('outdir'):\n",
    "    os.makedirs('outdir')\n",
    "    \n",
    "print(\"outdir:\",outdir)\n",
    "print(\"pdb:\",pdb)\n",
    "print(\"trjaectory:\",trajectory)"
   ]
  },
  {
   "cell_type": "code",
   "execution_count": 3,
   "metadata": {},
   "outputs": [],
   "source": [
    "trj = md.load(trajectory, top=pdb,stride=1)\n",
    "trj.center_coordinates()\n",
    "top = trj.topology\n",
    "first_frame = 0\n",
    "last_frame = trj.n_frames\n",
    "n_frames=trj.n_frames"
   ]
  },
  {
   "cell_type": "code",
   "execution_count": 4,
   "metadata": {},
   "outputs": [
    {
     "name": "stdout",
     "output_type": "stream",
     "text": [
      "** SYSTEM INFO **\n",
      "\n",
      "Number of atoms: 4062\n",
      "\n",
      "Number of residues: 252\n",
      "\n",
      "Number of frames: 4000\n",
      "\n",
      "Starting frame: 0\n",
      "\n",
      "Last frame: 4000\n",
      "\n",
      "sequence:  [ILE242, THR243, MET244, LYS245, HIS246, LYS247, LEU248, GLY249, GLY250, GLY251, GLN252, TYR253, GLY254, GLU255, VAL256, TYR257, GLU258, GLY259, VAL260, TRP261, LYS262, LYS263, TYR264, SER265, LEU266, THR267, VAL268, ALA269, VAL270, LYS271, THR272, LEU273, LYS274, GLU275, ASP276, THR277, MET278, GLU279, VAL280, GLU281, GLU282, PHE283, LEU284, LYS285, GLU286, ALA287, ALA288, VAL289, MET290, LYS291, GLU292, ILE293, LYS294, HIS295, PRO296, ASN297, LEU298, VAL299, GLN300, LEU301, LEU302, GLY303, VAL304, CYS305, THR306, ARG307, GLU308, PRO309, PRO310, PHE311, TYR312, ILE313, ILE314, THR315, GLU316, PHE317, MET318, THR319, TYR320, GLY321, ASN322, LEU323, LEU324, ASP325, TYR326, LEU327, ARG328, GLU329, CYS330, ASN331, ARG332, GLN333, GLU334, VAL335, ASN336, ALA337, VAL338, VAL339, LEU340, LEU341, TYR342, MET343, ALA344, THR345, GLN346, ILE347, SER348, SER349, ALA350, MET351, GLU352, TYR353, LEU354, GLU355, LYS356, LYS357, ASN358, PHE359, ILE360, HIS361, ARG362, ASP363, LEU364, ALA365, ALA366, ARG367, ASN368, CYS369, LEU370, VAL371, GLY372, GLU373, ASN374, HIS375, LEU376, VAL377, LYS378, VAL379, ALA380, ASP381, PHE382, GLY383, LEU384, SER385, ARG386, LEU387, MET388, THR389, GLY390, ASP391, THR392, TYR393, THR394, ALA395, HIS396, ALA397, GLY398, ALA399, LYS400, PHE401, PRO402, ILE403, LYS404, TRP405, THR406, ALA407, PRO408, GLU409, SER410, LEU411, ALA412, TYR413, ASN414, LYS415, PHE416, SER417, ILE418, LYS419, SER420, ASP421, VAL422, TRP423, ALA424, PHE425, GLY426, VAL427, LEU428, LEU429, TRP430, GLU431, ILE432, ALA433, THR434, TYR435, GLY436, MET437, SER438, PRO439, TYR440, PRO441, GLY442, ILE443, ASP444, LEU445, SER446, GLN447, VAL448, TYR449, GLU450, LEU451, LEU452, GLU453, LYS454, ASP455, TYR456, ARG457, MET458, GLU459, ARG460, PRO461, GLU462, GLY463, CYS464, PRO465, GLU466, LYS467, VAL468, TYR469, GLU470, LEU471, MET472, ARG473, ALA474, CYS475, TRP476, GLN477, TRP478, ASN479, PRO480, SER481, ASP482, ARG483, PRO484, SER485, PHE486, ALA487, GLU488, ILE489, HIS490, GLN491, ALA492, PHE493]\n",
      "\n",
      "residue names:  ['ILE', 'THR', 'MET', 'LYS', 'HIS', 'LYS', 'LEU', 'GLY', 'GLY', 'GLY', 'GLN', 'TYR', 'GLY', 'GLU', 'VAL', 'TYR', 'GLU', 'GLY', 'VAL', 'TRP', 'LYS', 'LYS', 'TYR', 'SER', 'LEU', 'THR', 'VAL', 'ALA', 'VAL', 'LYS', 'THR', 'LEU', 'LYS', 'GLU', 'ASP', 'THR', 'MET', 'GLU', 'VAL', 'GLU', 'GLU', 'PHE', 'LEU', 'LYS', 'GLU', 'ALA', 'ALA', 'VAL', 'MET', 'LYS', 'GLU', 'ILE', 'LYS', 'HIS', 'PRO', 'ASN', 'LEU', 'VAL', 'GLN', 'LEU', 'LEU', 'GLY', 'VAL', 'CYS', 'THR', 'ARG', 'GLU', 'PRO', 'PRO', 'PHE', 'TYR', 'ILE', 'ILE', 'THR', 'GLU', 'PHE', 'MET', 'THR', 'TYR', 'GLY', 'ASN', 'LEU', 'LEU', 'ASP', 'TYR', 'LEU', 'ARG', 'GLU', 'CYS', 'ASN', 'ARG', 'GLN', 'GLU', 'VAL', 'ASN', 'ALA', 'VAL', 'VAL', 'LEU', 'LEU', 'TYR', 'MET', 'ALA', 'THR', 'GLN', 'ILE', 'SER', 'SER', 'ALA', 'MET', 'GLU', 'TYR', 'LEU', 'GLU', 'LYS', 'LYS', 'ASN', 'PHE', 'ILE', 'HIS', 'ARG', 'ASP', 'LEU', 'ALA', 'ALA', 'ARG', 'ASN', 'CYS', 'LEU', 'VAL', 'GLY', 'GLU', 'ASN', 'HIS', 'LEU', 'VAL', 'LYS', 'VAL', 'ALA', 'ASP', 'PHE', 'GLY', 'LEU', 'SER', 'ARG', 'LEU', 'MET', 'THR', 'GLY', 'ASP', 'THR', 'TYR', 'THR', 'ALA', 'HIS', 'ALA', 'GLY', 'ALA', 'LYS', 'PHE', 'PRO', 'ILE', 'LYS', 'TRP', 'THR', 'ALA', 'PRO', 'GLU', 'SER', 'LEU', 'ALA', 'TYR', 'ASN', 'LYS', 'PHE', 'SER', 'ILE', 'LYS', 'SER', 'ASP', 'VAL', 'TRP', 'ALA', 'PHE', 'GLY', 'VAL', 'LEU', 'LEU', 'TRP', 'GLU', 'ILE', 'ALA', 'THR', 'TYR', 'GLY', 'MET', 'SER', 'PRO', 'TYR', 'PRO', 'GLY', 'ILE', 'ASP', 'LEU', 'SER', 'GLN', 'VAL', 'TYR', 'GLU', 'LEU', 'LEU', 'GLU', 'LYS', 'ASP', 'TYR', 'ARG', 'MET', 'GLU', 'ARG', 'PRO', 'GLU', 'GLY', 'CYS', 'PRO', 'GLU', 'LYS', 'VAL', 'TYR', 'GLU', 'LEU', 'MET', 'ARG', 'ALA', 'CYS', 'TRP', 'GLN', 'TRP', 'ASN', 'PRO', 'SER', 'ASP', 'ARG', 'PRO', 'SER', 'PHE', 'ALA', 'GLU', 'ILE', 'HIS', 'GLN', 'ALA', 'PHE']\n",
      "\n",
      "residue number:  [242, 243, 244, 245, 246, 247, 248, 249, 250, 251, 252, 253, 254, 255, 256, 257, 258, 259, 260, 261, 262, 263, 264, 265, 266, 267, 268, 269, 270, 271, 272, 273, 274, 275, 276, 277, 278, 279, 280, 281, 282, 283, 284, 285, 286, 287, 288, 289, 290, 291, 292, 293, 294, 295, 296, 297, 298, 299, 300, 301, 302, 303, 304, 305, 306, 307, 308, 309, 310, 311, 312, 313, 314, 315, 316, 317, 318, 319, 320, 321, 322, 323, 324, 325, 326, 327, 328, 329, 330, 331, 332, 333, 334, 335, 336, 337, 338, 339, 340, 341, 342, 343, 344, 345, 346, 347, 348, 349, 350, 351, 352, 353, 354, 355, 356, 357, 358, 359, 360, 361, 362, 363, 364, 365, 366, 367, 368, 369, 370, 371, 372, 373, 374, 375, 376, 377, 378, 379, 380, 381, 382, 383, 384, 385, 386, 387, 388, 389, 390, 391, 392, 393, 394, 395, 396, 397, 398, 399, 400, 401, 402, 403, 404, 405, 406, 407, 408, 409, 410, 411, 412, 413, 414, 415, 416, 417, 418, 419, 420, 421, 422, 423, 424, 425, 426, 427, 428, 429, 430, 431, 432, 433, 434, 435, 436, 437, 438, 439, 440, 441, 442, 443, 444, 445, 446, 447, 448, 449, 450, 451, 452, 453, 454, 455, 456, 457, 458, 459, 460, 461, 462, 463, 464, 465, 466, 467, 468, 469, 470, 471, 472, 473, 474, 475, 476, 477, 478, 479, 480, 481, 482, 483, 484, 485, 486, 487, 488, 489, 490, 491, 492, 493]\n",
      "\n",
      "residue index:  [0, 1, 2, 3, 4, 5, 6, 7, 8, 9, 10, 11, 12, 13, 14, 15, 16, 17, 18, 19, 20, 21, 22, 23, 24, 25, 26, 27, 28, 29, 30, 31, 32, 33, 34, 35, 36, 37, 38, 39, 40, 41, 42, 43, 44, 45, 46, 47, 48, 49, 50, 51, 52, 53, 54, 55, 56, 57, 58, 59, 60, 61, 62, 63, 64, 65, 66, 67, 68, 69, 70, 71, 72, 73, 74, 75, 76, 77, 78, 79, 80, 81, 82, 83, 84, 85, 86, 87, 88, 89, 90, 91, 92, 93, 94, 95, 96, 97, 98, 99, 100, 101, 102, 103, 104, 105, 106, 107, 108, 109, 110, 111, 112, 113, 114, 115, 116, 117, 118, 119, 120, 121, 122, 123, 124, 125, 126, 127, 128, 129, 130, 131, 132, 133, 134, 135, 136, 137, 138, 139, 140, 141, 142, 143, 144, 145, 146, 147, 148, 149, 150, 151, 152, 153, 154, 155, 156, 157, 158, 159, 160, 161, 162, 163, 164, 165, 166, 167, 168, 169, 170, 171, 172, 173, 174, 175, 176, 177, 178, 179, 180, 181, 182, 183, 184, 185, 186, 187, 188, 189, 190, 191, 192, 193, 194, 195, 196, 197, 198, 199, 200, 201, 202, 203, 204, 205, 206, 207, 208, 209, 210, 211, 212, 213, 214, 215, 216, 217, 218, 219, 220, 221, 222, 223, 224, 225, 226, 227, 228, 229, 230, 231, 232, 233, 234, 235, 236, 237, 238, 239, 240, 241, 242, 243, 244, 245, 246, 247, 248, 249, 250, 251]\n",
      "\n"
     ]
    }
   ],
   "source": [
    "nres=[]\n",
    "for res in trj.topology.residues: nres.append(res.resSeq)\n",
    "sequence=(' %s' % [residue for residue in trj.topology.residues])\n",
    "resname=(' %s' % [residue.name for residue in trj.topology.residues])\n",
    "resindex=(' %s' % [residue.index for residue in trj.topology.residues])\n",
    "res_num=(' %s' % [residue.resSeq  for residue in trj.topology.residues])\n",
    "\n",
    "\n",
    "\n",
    "#log = open(\"/Users/paulrobustelli/Desktop/Sa_calc.log\", \"w\")\n",
    "print(\"** SYSTEM INFO **\\n\")\n",
    "print(\"Number of atoms: %d\\n\" % trj.n_atoms)\n",
    "print(\"Number of residues: %d\\n\" % len(set(nres)))\n",
    "print(\"Number of frames: %d\\n\" % trj.n_frames)\n",
    "print(\"Starting frame: %d\\n\" % first_frame)\n",
    "print(\"Last frame: %d\\n\" % last_frame)\n",
    "print(\"sequence: %s\\n\" % sequence)\n",
    "print(\"residue names: %s\\n\" % resname)\n",
    "print(\"residue number: %s\\n\" % res_num)\n",
    "print(\"residue index: %s\\n\" % resindex)\n"
   ]
  },
  {
   "cell_type": "code",
   "execution_count": 7,
   "metadata": {},
   "outputs": [
    {
     "data": {
      "text/plain": [
       "array([242, 243, 244, 245, 246, 247, 248, 249, 250, 251, 252, 253, 254,\n",
       "       255, 256, 257, 258, 259, 260, 261, 262, 263, 264, 265, 266, 267,\n",
       "       268, 269, 270, 271, 272, 273, 274, 275, 276, 277, 278, 279, 280,\n",
       "       281, 282, 283, 284, 285, 286, 287, 288, 289, 290, 291, 292, 293,\n",
       "       294, 295, 296, 297, 298, 299, 300, 301, 302, 303, 304, 305, 306,\n",
       "       307, 308, 309, 310, 311, 312, 313, 314, 315, 316, 317, 318, 319,\n",
       "       320, 321, 322, 323, 324, 325, 326, 327, 328, 329, 330, 331, 332,\n",
       "       333, 334, 335, 336, 337, 338, 339, 340, 341, 342, 343, 344, 345,\n",
       "       346, 347, 348, 349, 350, 351, 352, 353, 354, 355, 356, 357, 358,\n",
       "       359, 360, 361, 362, 363, 364, 365, 366, 367, 368, 369, 370, 371,\n",
       "       372, 373, 374, 375, 376, 377, 378, 379, 380, 381, 382, 383, 384,\n",
       "       385, 386, 387, 388, 389, 390, 391, 392, 393, 394, 395, 396, 397,\n",
       "       398, 399, 400, 401, 402, 403, 404, 405, 406, 407, 408, 409, 410,\n",
       "       411, 412, 413, 414, 415, 416, 417, 418, 419, 420, 421, 422, 423,\n",
       "       424, 425, 426, 427, 428, 429, 430, 431, 432, 433, 434, 435, 436,\n",
       "       437, 438, 439, 440, 441, 442, 443, 444, 445, 446, 447, 448, 449,\n",
       "       450, 451, 452, 453, 454, 455, 456, 457, 458, 459, 460, 461, 462,\n",
       "       463, 464, 465, 466, 467, 468, 469, 470, 471, 472, 473, 474, 475,\n",
       "       476, 477, 478, 479, 480, 481, 482, 483, 484, 485, 486, 487, 488,\n",
       "       489, 490, 491, 492, 493])"
      ]
     },
     "execution_count": 7,
     "metadata": {},
     "output_type": "execute_result"
    }
   ],
   "source": [
    "residue_num=[]\n",
    "for res in top.residues: \n",
    "    residue_num.append(res.resSeq)\n",
    "residue_id=np.asarray(residue_num)\n",
    "residue_id"
   ]
  },
  {
   "cell_type": "code",
   "execution_count": 8,
   "metadata": {},
   "outputs": [
    {
     "data": {
      "text/plain": [
       "array([['C', 'E', 'E', ..., 'C', 'C', 'C'],\n",
       "       ['C', 'E', 'E', ..., 'H', 'C', 'C'],\n",
       "       ['C', 'E', 'E', ..., 'C', 'C', 'C'],\n",
       "       ...,\n",
       "       ['C', 'E', 'E', ..., 'C', 'C', 'C'],\n",
       "       ['C', 'E', 'E', ..., 'C', 'C', 'C'],\n",
       "       ['C', 'E', 'E', ..., 'C', 'C', 'C']], dtype='<U2')"
      ]
     },
     "execution_count": 8,
     "metadata": {},
     "output_type": "execute_result"
    }
   ],
   "source": [
    "#Use DSSP to calculate the secondary structure definition\n",
    "#https://mdtraj.org/1.9.4/api/generated/mdtraj.compute_dssp.html\n",
    "dssp=md.compute_dssp(trj,simplified=True)\n",
    "dssp"
   ]
  },
  {
   "cell_type": "code",
   "execution_count": 9,
   "metadata": {},
   "outputs": [
    {
     "name": "stdout",
     "output_type": "stream",
     "text": [
      "(4000, 252)\n",
      "Rows: 4000\n",
      "Columns: 252\n",
      "helical residues: [['280' 'H']\n",
      " ['281' 'H']\n",
      " ['282' 'H']\n",
      " ['283' 'H']\n",
      " ['284' 'H']\n",
      " ['285' 'H']\n",
      " ['286' 'H']\n",
      " ['287' 'H']\n",
      " ['288' 'H']\n",
      " ['289' 'H']\n",
      " ['323' 'H']\n",
      " ['324' 'H']\n",
      " ['325' 'H']\n",
      " ['326' 'H']\n",
      " ['327' 'H']\n",
      " ['337' 'H']\n",
      " ['338' 'H']\n",
      " ['339' 'H']\n",
      " ['340' 'H']\n",
      " ['341' 'H']\n",
      " ['342' 'H']\n",
      " ['343' 'H']\n",
      " ['344' 'H']\n",
      " ['345' 'H']\n",
      " ['346' 'H']\n",
      " ['347' 'H']\n",
      " ['348' 'H']\n",
      " ['349' 'H']\n",
      " ['350' 'H']\n",
      " ['351' 'H']\n",
      " ['352' 'H']\n",
      " ['353' 'H']\n",
      " ['354' 'H']\n",
      " ['355' 'H']\n",
      " ['356' 'H']\n",
      " ['357' 'H']\n",
      " ['366' 'H']\n",
      " ['367' 'H']\n",
      " ['368' 'H']\n",
      " ['373' 'H']\n",
      " ['374' 'H']\n",
      " ['375' 'H']\n",
      " ['403' 'H']\n",
      " ['404' 'H']\n",
      " ['405' 'H']\n",
      " ['408' 'H']\n",
      " ['409' 'H']\n",
      " ['410' 'H']\n",
      " ['411' 'H']\n",
      " ['412' 'H']\n",
      " ['413' 'H']\n",
      " ['420' 'H']\n",
      " ['421' 'H']\n",
      " ['422' 'H']\n",
      " ['423' 'H']\n",
      " ['424' 'H']\n",
      " ['425' 'H']\n",
      " ['426' 'H']\n",
      " ['427' 'H']\n",
      " ['428' 'H']\n",
      " ['429' 'H']\n",
      " ['430' 'H']\n",
      " ['431' 'H']\n",
      " ['432' 'H']\n",
      " ['433' 'H']\n",
      " ['449' 'H']\n",
      " ['450' 'H']\n",
      " ['451' 'H']\n",
      " ['452' 'H']\n",
      " ['453' 'H']\n",
      " ['466' 'H']\n",
      " ['467' 'H']\n",
      " ['468' 'H']\n",
      " ['469' 'H']\n",
      " ['470' 'H']\n",
      " ['471' 'H']\n",
      " ['472' 'H']\n",
      " ['473' 'H']\n",
      " ['474' 'H']\n",
      " ['475' 'H']\n",
      " ['486' 'H']\n",
      " ['487' 'H']\n",
      " ['488' 'H']\n",
      " ['489' 'H']\n",
      " ['490' 'H']]\n",
      "beta residues: [['243' 'E']\n",
      " ['244' 'E']\n",
      " ['245' 'E']\n",
      " ['246' 'E']\n",
      " ['247' 'E']\n",
      " ['256' 'E']\n",
      " ['257' 'E']\n",
      " ['258' 'E']\n",
      " ['259' 'E']\n",
      " ['260' 'E']\n",
      " ['261' 'E']\n",
      " ['266' 'E']\n",
      " ['267' 'E']\n",
      " ['268' 'E']\n",
      " ['269' 'E']\n",
      " ['270' 'E']\n",
      " ['271' 'E']\n",
      " ['272' 'E']\n",
      " ['298' 'E']\n",
      " ['301' 'E']\n",
      " ['302' 'E']\n",
      " ['303' 'E']\n",
      " ['304' 'E']\n",
      " ['305' 'E']\n",
      " ['312' 'E']\n",
      " ['313' 'E']\n",
      " ['314' 'E']\n",
      " ['315' 'E']\n",
      " ['321' 'E']\n",
      " ['322' 'E']\n",
      " ['359' 'E']\n",
      " ['360' 'E']\n",
      " ['369' 'E']\n",
      " ['370' 'E']\n",
      " ['371' 'E']\n",
      " ['377' 'E']\n",
      " ['378' 'E']\n",
      " ['379' 'E']\n",
      " ['386' 'E']\n",
      " ['387' 'E']\n",
      " ['393' 'E']\n",
      " ['394' 'E']\n",
      " ['415' 'E']\n",
      " ['416' 'E']]\n"
     ]
    }
   ],
   "source": [
    "print(dssp.shape)\n",
    "print(\"Rows:\",len(dssp))\n",
    "print(\"Columns:\",len(dssp[0]))\n",
    "\n",
    "#Print out helix and beta residues for a given frame\n",
    "frame=0\n",
    "dssp_frame=np.column_stack((residue_id,dssp[frame]))\n",
    "helix_res=np.where(dssp_frame[:,1]=='H')\n",
    "beta_res=np.where(dssp_frame[:,1]=='E')\n",
    "print('helical residues:',dssp_frame[helix_res])\n",
    "print('beta residues:',dssp_frame[beta_res])"
   ]
  },
  {
   "cell_type": "code",
   "execution_count": 10,
   "metadata": {},
   "outputs": [
    {
     "data": {
      "text/plain": [
       "(350.0, 400.0)"
      ]
     },
     "execution_count": 10,
     "metadata": {},
     "output_type": "execute_result"
    },
    {
     "data": {
      "image/png": "[encoded data removed]",
      "text/plain": [
       "<Figure size 432x288 with 1 Axes>"
      ]
     },
     "metadata": {
      "needs_background": "light"
     },
     "output_type": "display_data"
    }
   ],
   "source": [
    "dssp=md.compute_dssp(trj,simplified=True)\n",
    "\n",
    "def dssp_convert(dssp):\n",
    " dsspH=np.copy(dssp)\n",
    " dsspE=np.copy(dssp)\n",
    " dsspH[dsspH=='H']=1                                                                                      \n",
    " dsspH[dsspH=='E']=0                                                                                      \n",
    " dsspH[dsspH=='C']=0                                                                                      \n",
    " dsspH[dsspH=='NA']=0 \n",
    " dsspH=dsspH.astype(int)\n",
    " TotalH=np.sum(dsspH,axis=1) \n",
    " Hprop=np.sum(dsspH,axis=0).astype(float)/len(dsspE) \n",
    "\n",
    " dsspE[dsspE=='H']=0\n",
    " dsspE[dsspE=='E']=1\n",
    " dsspE[dsspE=='C']=0\n",
    " dsspE[dsspE=='NA']=0\n",
    " dsspE=dsspE.astype(int)\n",
    " TotalE=np.sum(dsspE,axis=1) \n",
    " Eprop=np.sum(dsspE,axis=0).astype(float)/len(dsspE) \n",
    " return Hprop, Eprop\n",
    "\n",
    "Hprop,Eprop=dssp_convert(dssp)\n",
    "plt.plot(residue_num,Hprop,c='r',label='helix')\n",
    "plt.plot(residue_num,Eprop,c='b',label='sheet')\n",
    "\n",
    "plt.legend(loc=\"upper left\")\n",
    "plt.xlabel('Residue', size=18)\n",
    "plt.ylabel('Secondary Strcture Fraction', size=18)\n",
    "plt.tick_params(labelsize=18)\n",
    "plt.xlim(350,400)\n"
   ]
  },
  {
   "cell_type": "markdown",
   "metadata": {},
   "source": [
    "***HOMEWORK Problem 1***\n",
    "\n",
    "**Use the full DSSP set of secondary structure assignments to plot the population of another secondary structure type and visualize it with a representative frame or frames in VMD**\n",
    "\n",
    "**Consult the original DSSP paper (or online documentaiton) to confirm the criteria for this assignment** \n",
    "\n",
    "Kabsch W, Sander C (1983). “Dictionary of protein secondary structure: pattern recognition of hydrogen-bonded and geometrical features”. Biopolymers 22 (12): 2577-637. doi:10.1002/bip.360221211\n",
    "\n",
    "dssp=md.compute_dssp(trj,simplified=False)\n",
    "\n",
    "https://mdtraj.org/1.9.4/api/generated/mdtraj.compute_dssp.html\n",
    "\n",
    "The DSSP assignment codes are:\n",
    "\n",
    "‘H’ : Alpha helix\n",
    "\n",
    "‘B’ : Residue in isolated beta-bridge\n",
    "\n",
    "‘E’ : Extended strand, participates in beta ladder\n",
    "\n",
    "‘G’ : 3-helix (3/10 helix)\n",
    "\n",
    "‘I’ : 5 helix (pi helix)\n",
    "\n",
    "‘T’ : hydrogen bonded turn\n",
    "\n",
    "‘S’ : bend\n",
    "\n",
    "‘ ‘ : Loops and irregular elements\n",
    "\n",
    "The simplified DSSP codes are:\n",
    "\n",
    "‘H’ : Helix. Either of the ‘H’, ‘G’, or ‘I’ codes.\n",
    "\n",
    "‘E’ : Strand. Either of the ‘E’, or ‘B’ codes.\n",
    "\n",
    "‘C’ : Coil. Either of the ‘T’, ‘S’ or ‘ ‘ codes."
   ]
  },
  {
   "cell_type": "code",
   "execution_count": 71,
   "metadata": {},
   "outputs": [],
   "source": [
    "####HOMEWORK ######\n",
    "#Use the full DSSP Definition and plot the population of another secondary structure type \n",
    "#https://mdtraj.org/1.9.4/api/generated/mdtraj.compute_dssp.html\n",
    "\n",
    "dssp_full=md.compute_dssp(trj,simplified=False)\n"
   ]
  },
  {
   "cell_type": "code",
   "execution_count": 72,
   "metadata": {},
   "outputs": [],
   "source": [
    "#let's plot the fraction of pi helix, \"I\" for each residue\n",
    "dssp_I = np.where(dssp_full == \"I\",1,0)"
   ]
  },
  {
   "cell_type": "code",
   "execution_count": 73,
   "metadata": {},
   "outputs": [
    {
     "data": {
      "image/png": "[encoded data removed]",
      "text/plain": [
       "<Figure size 432x288 with 1 Axes>"
      ]
     },
     "metadata": {
      "needs_background": "light"
     },
     "output_type": "display_data"
    }
   ],
   "source": [
    "plt.plot(residue_num,np.sum(dssp_I,axis=0)/dssp_full.shape[0],c='r',label='5-helix')\n",
    "plt.legend(loc=\"upper left\")\n",
    "plt.xlabel('Residue', size=18)\n",
    "plt.ylabel('Secondary Strcture Fraction', size=18)\n",
    "plt.tick_params(labelsize=18)\n"
   ]
  },
  {
   "cell_type": "code",
   "execution_count": 402,
   "metadata": {},
   "outputs": [
    {
     "name": "stdout",
     "output_type": "stream",
     "text": [
      "There are five residues with ss pi helix: [409 410 411 412 413]\n"
     ]
    }
   ],
   "source": [
    "#color frame 0\n",
    "np.where(dssp_I[0,:]==1)[0]+242\n",
    "print(\"There are five residues with ss pi helix:\",np.where(dssp_I[0,:]==1)[0]+242)"
   ]
  },
  {
   "cell_type": "code",
   "execution_count": 242,
   "metadata": {},
   "outputs": [
    {
     "data": {
      "application/vnd.jupyter.widget-view+json": {
       "model_id": "ea165f4e17a144bfac3ac7cc398850cd",
       "version_major": 2,
       "version_minor": 0
      },
      "text/plain": [
       "NGLWidget()"
      ]
     },
     "metadata": {},
     "output_type": "display_data"
    }
   ],
   "source": [
    "#Here I am coloring the five residues with ss element \"I\" licorice and the rest blue!\n",
    "\n",
    "t = nv.MDTrajTrajectory(trj[0])\n",
    "view = nv.NGLWidget(t)\n",
    "view"
   ]
  },
  {
   "cell_type": "code",
   "execution_count": 286,
   "metadata": {},
   "outputs": [],
   "source": [
    "view.clear_representations()\n",
    "view.add_cartoon(opacity=.1)\n",
    "view.add_licorice(\"409, 410, 411, 412, 413\")\n"
   ]
  },
  {
   "cell_type": "markdown",
   "metadata": {},
   "source": [
    "***Challenge Problem #1***\n",
    "\n",
    "**Write function/efficient loop to calculate all secondary structure populations from the dssp_full definitions \n",
    "and write out all residues numbers with > 90% of each seondary structure type**"
   ]
  },
  {
   "cell_type": "code",
   "execution_count": 75,
   "metadata": {},
   "outputs": [
    {
     "data": {
      "text/plain": [
       "'my function returns a data frame of all the ss fractions as well as a dictionary giving the residues that have a \\nfraction>cutoff for each ss type, cuttoff is a variable! '"
      ]
     },
     "execution_count": 75,
     "metadata": {},
     "output_type": "execute_result"
    }
   ],
   "source": [
    "#### Challenge Problem Write a Function to Compute the Population of Any Secondary Structure Type\n",
    "#### Write a loop to plot all populations\n",
    "#### Write code to output the residue numbers of every residue with > 90% each SS type\n",
    "\"\"\"my function returns a data frame of all the ss fractions as well as a dictionary giving the residues that have a \n",
    "fraction>cutoff for each ss type, cuttoff is a variable! \"\"\"\n",
    "        "
   ]
  },
  {
   "cell_type": "code",
   "execution_count": 284,
   "metadata": {},
   "outputs": [],
   "source": [
    "ss_full = [\"H\",\"B\",\"E\",\"G\",\"I\",\"T\",\"S\",\" \"]\n",
    "ss = [\"H\",\"E\",\"C\"]"
   ]
  },
  {
   "cell_type": "code",
   "execution_count": 64,
   "metadata": {},
   "outputs": [],
   "source": [
    "def challenge_1(ss,dssp,res,cutoff):\n",
    "    tot = []\n",
    "    dic = {}\n",
    "    for i in ss:\n",
    "        a = np.where(dssp==i,1,0)\n",
    "        frac = np.sum(a,axis=0)/dssp.shape[0]\n",
    "        tot.append(frac)\n",
    "    arr = np.stack(tot,axis=0)\n",
    "    df = pd.DataFrame(data=arr,index=ss,columns=res)\n",
    "    for j in ss:\n",
    "        cols = np.asarray(df.columns[df.loc[j]>cutoff])\n",
    "        dic.update({j:cols})\n",
    "        \n",
    "        \n",
    "    return df,dic"
   ]
  },
  {
   "cell_type": "code",
   "execution_count": 81,
   "metadata": {},
   "outputs": [],
   "source": [
    "dssp_df,dic = challenge_1(ss_full,dssp_full,residue_num,.9)"
   ]
  },
  {
   "cell_type": "code",
   "execution_count": 82,
   "metadata": {},
   "outputs": [
    {
     "data": {
      "text/html": [
       "<div>\n",
       "<style scoped>\n",
       "    .dataframe tbody tr th:only-of-type {\n",
       "        vertical-align: middle;\n",
       "    }\n",
       "\n",
       "    .dataframe tbody tr th {\n",
       "        vertical-align: top;\n",
       "    }\n",
       "\n",
       "    .dataframe thead th {\n",
       "        text-align: right;\n",
       "    }\n",
       "</style>\n",
       "<table border=\"1\" class=\"dataframe\">\n",
       "  <thead>\n",
       "    <tr style=\"text-align: right;\">\n",
       "      <th></th>\n",
       "      <th>242</th>\n",
       "      <th>243</th>\n",
       "      <th>244</th>\n",
       "      <th>245</th>\n",
       "      <th>246</th>\n",
       "      <th>247</th>\n",
       "      <th>248</th>\n",
       "      <th>249</th>\n",
       "      <th>250</th>\n",
       "      <th>251</th>\n",
       "      <th>...</th>\n",
       "      <th>484</th>\n",
       "      <th>485</th>\n",
       "      <th>486</th>\n",
       "      <th>487</th>\n",
       "      <th>488</th>\n",
       "      <th>489</th>\n",
       "      <th>490</th>\n",
       "      <th>491</th>\n",
       "      <th>492</th>\n",
       "      <th>493</th>\n",
       "    </tr>\n",
       "  </thead>\n",
       "  <tbody>\n",
       "    <tr>\n",
       "      <th>H</th>\n",
       "      <td>0.0</td>\n",
       "      <td>0.000</td>\n",
       "      <td>0.0000</td>\n",
       "      <td>0.00000</td>\n",
       "      <td>0.00000</td>\n",
       "      <td>0.00000</td>\n",
       "      <td>0.00000</td>\n",
       "      <td>0.0000</td>\n",
       "      <td>0.00000</td>\n",
       "      <td>0.00000</td>\n",
       "      <td>...</td>\n",
       "      <td>0.0</td>\n",
       "      <td>0.0</td>\n",
       "      <td>0.92475</td>\n",
       "      <td>0.93000</td>\n",
       "      <td>0.93100</td>\n",
       "      <td>0.93150</td>\n",
       "      <td>0.50200</td>\n",
       "      <td>0.27250</td>\n",
       "      <td>0.15100</td>\n",
       "      <td>0.0</td>\n",
       "    </tr>\n",
       "    <tr>\n",
       "      <th>B</th>\n",
       "      <td>0.0</td>\n",
       "      <td>0.000</td>\n",
       "      <td>0.0000</td>\n",
       "      <td>0.00000</td>\n",
       "      <td>0.00000</td>\n",
       "      <td>0.00175</td>\n",
       "      <td>0.00000</td>\n",
       "      <td>0.0000</td>\n",
       "      <td>0.00000</td>\n",
       "      <td>0.00325</td>\n",
       "      <td>...</td>\n",
       "      <td>0.0</td>\n",
       "      <td>0.0</td>\n",
       "      <td>0.00000</td>\n",
       "      <td>0.00000</td>\n",
       "      <td>0.00000</td>\n",
       "      <td>0.00000</td>\n",
       "      <td>0.00000</td>\n",
       "      <td>0.00000</td>\n",
       "      <td>0.00000</td>\n",
       "      <td>0.0</td>\n",
       "    </tr>\n",
       "    <tr>\n",
       "      <th>E</th>\n",
       "      <td>0.0</td>\n",
       "      <td>0.537</td>\n",
       "      <td>0.8675</td>\n",
       "      <td>0.86775</td>\n",
       "      <td>0.93075</td>\n",
       "      <td>0.99575</td>\n",
       "      <td>0.97300</td>\n",
       "      <td>0.9680</td>\n",
       "      <td>0.88500</td>\n",
       "      <td>0.42250</td>\n",
       "      <td>...</td>\n",
       "      <td>0.0</td>\n",
       "      <td>0.0</td>\n",
       "      <td>0.00000</td>\n",
       "      <td>0.00000</td>\n",
       "      <td>0.00000</td>\n",
       "      <td>0.00000</td>\n",
       "      <td>0.00000</td>\n",
       "      <td>0.00000</td>\n",
       "      <td>0.00000</td>\n",
       "      <td>0.0</td>\n",
       "    </tr>\n",
       "    <tr>\n",
       "      <th>G</th>\n",
       "      <td>0.0</td>\n",
       "      <td>0.000</td>\n",
       "      <td>0.0000</td>\n",
       "      <td>0.00000</td>\n",
       "      <td>0.00000</td>\n",
       "      <td>0.00000</td>\n",
       "      <td>0.00000</td>\n",
       "      <td>0.0000</td>\n",
       "      <td>0.00000</td>\n",
       "      <td>0.00000</td>\n",
       "      <td>...</td>\n",
       "      <td>0.0</td>\n",
       "      <td>0.0</td>\n",
       "      <td>0.04300</td>\n",
       "      <td>0.04475</td>\n",
       "      <td>0.04550</td>\n",
       "      <td>0.02375</td>\n",
       "      <td>0.10425</td>\n",
       "      <td>0.10425</td>\n",
       "      <td>0.09825</td>\n",
       "      <td>0.0</td>\n",
       "    </tr>\n",
       "    <tr>\n",
       "      <th>I</th>\n",
       "      <td>0.0</td>\n",
       "      <td>0.000</td>\n",
       "      <td>0.0000</td>\n",
       "      <td>0.00000</td>\n",
       "      <td>0.00000</td>\n",
       "      <td>0.00000</td>\n",
       "      <td>0.00000</td>\n",
       "      <td>0.0000</td>\n",
       "      <td>0.00000</td>\n",
       "      <td>0.00000</td>\n",
       "      <td>...</td>\n",
       "      <td>0.0</td>\n",
       "      <td>0.0</td>\n",
       "      <td>0.00000</td>\n",
       "      <td>0.00000</td>\n",
       "      <td>0.00000</td>\n",
       "      <td>0.00000</td>\n",
       "      <td>0.00000</td>\n",
       "      <td>0.00000</td>\n",
       "      <td>0.00000</td>\n",
       "      <td>0.0</td>\n",
       "    </tr>\n",
       "    <tr>\n",
       "      <th>T</th>\n",
       "      <td>0.0</td>\n",
       "      <td>0.000</td>\n",
       "      <td>0.0000</td>\n",
       "      <td>0.00000</td>\n",
       "      <td>0.00000</td>\n",
       "      <td>0.00000</td>\n",
       "      <td>0.00000</td>\n",
       "      <td>0.0000</td>\n",
       "      <td>0.00025</td>\n",
       "      <td>0.00025</td>\n",
       "      <td>...</td>\n",
       "      <td>0.0</td>\n",
       "      <td>0.0</td>\n",
       "      <td>0.02675</td>\n",
       "      <td>0.02500</td>\n",
       "      <td>0.01875</td>\n",
       "      <td>0.03475</td>\n",
       "      <td>0.37175</td>\n",
       "      <td>0.59725</td>\n",
       "      <td>0.35425</td>\n",
       "      <td>0.0</td>\n",
       "    </tr>\n",
       "    <tr>\n",
       "      <th>S</th>\n",
       "      <td>0.0</td>\n",
       "      <td>0.000</td>\n",
       "      <td>0.0035</td>\n",
       "      <td>0.04225</td>\n",
       "      <td>0.04950</td>\n",
       "      <td>0.00000</td>\n",
       "      <td>0.00125</td>\n",
       "      <td>0.0065</td>\n",
       "      <td>0.01125</td>\n",
       "      <td>0.02900</td>\n",
       "      <td>...</td>\n",
       "      <td>0.0</td>\n",
       "      <td>0.0</td>\n",
       "      <td>0.00550</td>\n",
       "      <td>0.00025</td>\n",
       "      <td>0.00450</td>\n",
       "      <td>0.00800</td>\n",
       "      <td>0.02200</td>\n",
       "      <td>0.02525</td>\n",
       "      <td>0.00000</td>\n",
       "      <td>0.0</td>\n",
       "    </tr>\n",
       "    <tr>\n",
       "      <th></th>\n",
       "      <td>1.0</td>\n",
       "      <td>0.463</td>\n",
       "      <td>0.1290</td>\n",
       "      <td>0.09000</td>\n",
       "      <td>0.01975</td>\n",
       "      <td>0.00250</td>\n",
       "      <td>0.02575</td>\n",
       "      <td>0.0255</td>\n",
       "      <td>0.10350</td>\n",
       "      <td>0.54500</td>\n",
       "      <td>...</td>\n",
       "      <td>1.0</td>\n",
       "      <td>1.0</td>\n",
       "      <td>0.00000</td>\n",
       "      <td>0.00000</td>\n",
       "      <td>0.00025</td>\n",
       "      <td>0.00200</td>\n",
       "      <td>0.00000</td>\n",
       "      <td>0.00075</td>\n",
       "      <td>0.39650</td>\n",
       "      <td>1.0</td>\n",
       "    </tr>\n",
       "  </tbody>\n",
       "</table>\n",
       "<p>8 rows × 252 columns</p>\n",
       "</div>"
      ],
      "text/plain": [
       "   242    243     244      245      246      247      248     249      250  \\\n",
       "H  0.0  0.000  0.0000  0.00000  0.00000  0.00000  0.00000  0.0000  0.00000   \n",
       "B  0.0  0.000  0.0000  0.00000  0.00000  0.00175  0.00000  0.0000  0.00000   \n",
       "E  0.0  0.537  0.8675  0.86775  0.93075  0.99575  0.97300  0.9680  0.88500   \n",
       "G  0.0  0.000  0.0000  0.00000  0.00000  0.00000  0.00000  0.0000  0.00000   \n",
       "I  0.0  0.000  0.0000  0.00000  0.00000  0.00000  0.00000  0.0000  0.00000   \n",
       "T  0.0  0.000  0.0000  0.00000  0.00000  0.00000  0.00000  0.0000  0.00025   \n",
       "S  0.0  0.000  0.0035  0.04225  0.04950  0.00000  0.00125  0.0065  0.01125   \n",
       "   1.0  0.463  0.1290  0.09000  0.01975  0.00250  0.02575  0.0255  0.10350   \n",
       "\n",
       "       251  ...  484  485      486      487      488      489      490  \\\n",
       "H  0.00000  ...  0.0  0.0  0.92475  0.93000  0.93100  0.93150  0.50200   \n",
       "B  0.00325  ...  0.0  0.0  0.00000  0.00000  0.00000  0.00000  0.00000   \n",
       "E  0.42250  ...  0.0  0.0  0.00000  0.00000  0.00000  0.00000  0.00000   \n",
       "G  0.00000  ...  0.0  0.0  0.04300  0.04475  0.04550  0.02375  0.10425   \n",
       "I  0.00000  ...  0.0  0.0  0.00000  0.00000  0.00000  0.00000  0.00000   \n",
       "T  0.00025  ...  0.0  0.0  0.02675  0.02500  0.01875  0.03475  0.37175   \n",
       "S  0.02900  ...  0.0  0.0  0.00550  0.00025  0.00450  0.00800  0.02200   \n",
       "   0.54500  ...  1.0  1.0  0.00000  0.00000  0.00025  0.00200  0.00000   \n",
       "\n",
       "       491      492  493  \n",
       "H  0.27250  0.15100  0.0  \n",
       "B  0.00000  0.00000  0.0  \n",
       "E  0.00000  0.00000  0.0  \n",
       "G  0.10425  0.09825  0.0  \n",
       "I  0.00000  0.00000  0.0  \n",
       "T  0.59725  0.35425  0.0  \n",
       "S  0.02525  0.00000  0.0  \n",
       "   0.00075  0.39650  1.0  \n",
       "\n",
       "[8 rows x 252 columns]"
      ]
     },
     "execution_count": 82,
     "metadata": {},
     "output_type": "execute_result"
    }
   ],
   "source": [
    "dssp_df"
   ]
  },
  {
   "cell_type": "code",
   "execution_count": 83,
   "metadata": {},
   "outputs": [
    {
     "name": "stdout",
     "output_type": "stream",
     "text": [
      "{'H': array([281, 282, 283, 324, 325, 326, 327, 337, 338, 339, 340, 341, 342,\n",
      "       343, 344, 345, 346, 347, 348, 349, 350, 351, 352, 353, 354, 355,\n",
      "       410, 411, 422, 423, 424, 425, 426, 427, 428, 429, 430, 431, 432,\n",
      "       433, 466, 467, 468, 469, 470, 471, 472, 473, 474, 475, 486, 487,\n",
      "       488, 489]), 'B': array([298]), 'E': array([246, 247, 248, 249, 255, 256, 257, 258, 259, 260, 261, 266, 267,\n",
      "       268, 269, 270, 271, 272, 301, 302, 303, 304, 313, 314, 315, 369,\n",
      "       370, 371, 377, 378, 379, 392, 393, 394, 415, 416, 417]), 'G': array([], dtype=int64), 'I': array([], dtype=int64), 'T': array([262, 263, 264, 265, 275, 276, 277, 296, 297, 319, 320, 332, 333,\n",
      "       334, 358, 418, 419, 434, 435]), 'S': array([307, 308, 309, 310, 390, 391, 414, 436, 439, 440, 478, 479, 483]), ' ': array([242, 274, 279, 293, 294, 299, 300, 311, 317, 318, 331, 336, 361,\n",
      "       363, 364, 380, 381, 382, 385, 388, 402, 407, 437, 438, 444, 457,\n",
      "       459, 460, 461, 465, 477, 484, 485, 493])}\n"
     ]
    }
   ],
   "source": [
    "print(dic)"
   ]
  },
  {
   "cell_type": "code",
   "execution_count": 223,
   "metadata": {},
   "outputs": [
    {
     "data": {
      "text/plain": [
       "Text(0.5, 0, 'Residue')"
      ]
     },
     "execution_count": 223,
     "metadata": {},
     "output_type": "execute_result"
    },
    {
     "data": {
      "image/png": "[encoded data removed]",
      "text/plain": [
       "<Figure size 432x288 with 1 Axes>"
      ]
     },
     "metadata": {
      "needs_background": "light"
     },
     "output_type": "display_data"
    }
   ],
   "source": [
    "#plot a few elements of the data frame\n",
    "for i in ss_full[:3]:\n",
    "    plt.plot(residue_num,dssp_df.loc[i],label=i)\n",
    "plt.legend()\n",
    "plt.ylabel(\"Fraction\")\n",
    "plt.xlabel(\"Residue\")"
   ]
  },
  {
   "cell_type": "code",
   "execution_count": 395,
   "metadata": {},
   "outputs": [
    {
     "data": {
      "text/plain": [
       "Text(0.5, 0, 'Residue')"
      ]
     },
     "execution_count": 395,
     "metadata": {},
     "output_type": "execute_result"
    },
    {
     "data": {
      "image/png": "[encoded data removed]",
      "text/plain": [
       "<Figure size 432x288 with 1 Axes>"
      ]
     },
     "metadata": {
      "needs_background": "light"
     },
     "output_type": "display_data"
    }
   ],
   "source": [
    "#plot last few elements of the data frame\n",
    "for i in ss_full[-3:]:\n",
    "    plt.plot(residue_num,dssp_df.loc[i],label=i)\n",
    "plt.legend()\n",
    "plt.ylabel(\"Fraction\")\n",
    "plt.xlabel(\"Residue\")"
   ]
  },
  {
   "cell_type": "markdown",
   "metadata": {},
   "source": [
    "***HOMEWORK Problem 2***\n",
    "\n",
    "**Identify a residue that has a substantial population (>10%) of a second secondary structure assignment \n",
    "(for example something that is 50% helix/ 50% coil or 80% helix/ 20% coil) and make representative snapshots to illustrate the 2 conformations.  Can you identify any other structural changes in the vicinity of that residue that favor the 2nd conformation**"
   ]
  },
  {
   "cell_type": "code",
   "execution_count": 93,
   "metadata": {},
   "outputs": [],
   "source": [
    "#using the function with a cutoff of .4 for coil and helix\n",
    "df_simple,dic_simple = challenge_1(ss,dssp,residue_num,.4)"
   ]
  },
  {
   "cell_type": "code",
   "execution_count": 255,
   "metadata": {},
   "outputs": [
    {
     "name": "stdout",
     "output_type": "stream",
     "text": [
      "445 True\n",
      "446 True\n",
      "447 True\n",
      "448 True\n",
      "there are 4 residues in a row that satisfy the criteria, lets color them in two representative frames\n"
     ]
    }
   ],
   "source": [
    "#im going to use the results of my function for this\n",
    "for i in dic_simple[\"H\"]:\n",
    "    tf = i in dic_simple[\"C\"]\n",
    "    if tf == True:\n",
    "        print(i,tf)\n",
    "print(\"there are 4 residues in a row that satisfy the criteria, lets color them in two representative frames\")"
   ]
  },
  {
   "cell_type": "code",
   "execution_count": 275,
   "metadata": {},
   "outputs": [
    {
     "data": {
      "text/plain": [
       "203"
      ]
     },
     "execution_count": 275,
     "metadata": {},
     "output_type": "execute_result"
    }
   ],
   "source": [
    "445-242"
   ]
  },
  {
   "cell_type": "code",
   "execution_count": 272,
   "metadata": {},
   "outputs": [
    {
     "data": {
      "text/plain": [
       "array(['C', 'C', 'C', 'C'], dtype='<U2')"
      ]
     },
     "execution_count": 272,
     "metadata": {},
     "output_type": "execute_result"
    }
   ],
   "source": [
    "dssp[0,203:207]"
   ]
  },
  {
   "cell_type": "code",
   "execution_count": 279,
   "metadata": {},
   "outputs": [
    {
     "data": {
      "text/plain": [
       "array(['H', 'H', 'H', 'H'], dtype='<U2')"
      ]
     },
     "execution_count": 279,
     "metadata": {},
     "output_type": "execute_result"
    }
   ],
   "source": [
    "dssp[3999,203:207]"
   ]
  },
  {
   "cell_type": "markdown",
   "metadata": {},
   "source": [
    "Frame 0 has the 4 residues all in coil and frame 3999 has the 4 residues in helix\n",
    "\n",
    "Im going to make an ngl view wiget that slides between frame 0 and 2"
   ]
  },
  {
   "cell_type": "code",
   "execution_count": 280,
   "metadata": {},
   "outputs": [],
   "source": [
    "frame_sel = np.array([0,3999])"
   ]
  },
  {
   "cell_type": "code",
   "execution_count": 281,
   "metadata": {},
   "outputs": [
    {
     "data": {
      "application/vnd.jupyter.widget-view+json": {
       "model_id": "8e91070b243646fcb219b1969a51a975",
       "version_major": 2,
       "version_minor": 0
      },
      "text/plain": [
       "NGLWidget(count=2)"
      ]
     },
     "metadata": {},
     "output_type": "display_data"
    }
   ],
   "source": [
    "\"\"\"BOTH REPRESENTATIVE FRAMES ARE IN WIGET, pull the slider ALL THE WAY TO THE LEFT/RIGHT\n",
    "first structure is coil,second is helix\n",
    "the 4 residues are licorice\"\"\"\n",
    "t1 = nv.MDTrajTrajectory(trj[frame_sel])\n",
    "view1 = nv.NGLWidget(t1)\n",
    "view1"
   ]
  },
  {
   "cell_type": "code",
   "execution_count": 285,
   "metadata": {},
   "outputs": [],
   "source": [
    "view1.clear_representations()\n",
    "view1.add_cartoon(color=\"blue\",opacity=.1)\n",
    "view1.add_licorice(\"445, 446, 447, 448\")"
   ]
  },
  {
   "cell_type": "code",
   "execution_count": 97,
   "metadata": {},
   "outputs": [],
   "source": [
    "indices_phi, phis = md.compute_phi(trj)\n",
    "indices_psi, psis = md.compute_psi(trj)\n",
    "indices_chi1, chi1s = md.compute_chi1(trj)\n",
    "indices_chi2, chi2s = md.compute_chi2(trj)"
   ]
  },
  {
   "cell_type": "code",
   "execution_count": 120,
   "metadata": {},
   "outputs": [],
   "source": [
    "phi_dict={}\n",
    "dihedral_dict = { 'phi': { },\n",
    "          'psi': { },\n",
    "          'chi1': { },\n",
    "          'chi2': { }}\n",
    "\n",
    "for i in range(0,len(indices_phi)):\n",
    "  indices=indices_phi[i]\n",
    "  atom=top.atom(indices[1])\n",
    "  resnum=top.atom(indices[1]).residue.resSeq\n",
    "  dihedral_dict['phi'][resnum]=phis[:,i]\n",
    "\n",
    "for i in range(0,len(indices_psi)):\n",
    "  indices=indices_psi[i]\n",
    "  atom=top.atom(indices[1])\n",
    "  resnum=top.atom(indices[1]).residue.resSeq\n",
    "  dihedral_dict['psi'][resnum]=psis[:,i]\n",
    "\n",
    "for i in range(0,len(indices_chi1)):\n",
    "  indices=indices_chi1[i]\n",
    "  atom=top.atom(indices[1])\n",
    "  resnum=top.atom(indices[1]).residue.resSeq\n",
    "  dihedral_dict['chi1'][resnum]=chi1s[:,i]\n",
    "\n",
    "for i in range(0,len(indices_chi2)):\n",
    "  indices=indices_chi2[i]\n",
    "  atom=top.atom(indices[1])\n",
    "  resnum=top.atom(indices[1]).residue.resSeq\n",
    "  dihedral_dict['chi2'][resnum]=chi2s[:,i]"
   ]
  },
  {
   "cell_type": "code",
   "execution_count": 122,
   "metadata": {},
   "outputs": [],
   "source": [
    "#Heres a function to plot a phi/psi ramachandran plot:\n",
    "\n",
    "def plot_phipsi(res):\n",
    " plt.hist2d(dihedral_dict['phi'][res],dihedral_dict['psi'][res],bins=36,range=[[-3.14,3.14],[-3.14,3.14]], norm=colors.LogNorm(),cmap='jet')\n",
    " plt.xlabel('$\\phi$', size=18)\n",
    " plt.ylabel('$\\psi$', size=18)\n",
    " plt.xticks([-3.14,-3.14/2,0,3.14/2,3.14],fontsize=35)\n",
    " plt.yticks([-3.14,-3.14/2,0,3.14/2,3.14],fontsize=35)\n",
    " plt.tick_params(labelsize=18)\n",
    " plt.show()\n",
    " return\n",
    "\n",
    "def plot_chi(res):\n",
    "    if res in dihedral_dict['chi1']:\n",
    "     plt.hist(dihedral_dict['chi1'][res],bins=36,range=[-3.14,3.14])        \n",
    "     plt.xticks([-3.14,-3.14/2,0,3.14/2,3.14],fontsize=35)\n",
    "     plt.xlabel('$\\chi_1$', size=18)\n",
    "     plt.ylabel('counts', size=18)\n",
    "     plt.tick_params(labelsize=18)\n",
    "     plt.show()\n",
    "     plt.clf()   \n",
    "    if res in dihedral_dict['chi2']:\n",
    "     plt.hist2d(dihedral_dict['chi1'][res],dihedral_dict['chi2'][res],bins=36,range=[[-3.14,3.14],[-3.14,3.14]], norm=colors.LogNorm(),cmap='jet')\n",
    "     plt.xlabel('$\\chi_1$', size=18)\n",
    "     plt.ylabel('$\\chi_2$', size=18)\n",
    "     plt.xticks([-3.14,-3.14/2,0,3.14/2,3.14],fontsize=35)\n",
    "     plt.yticks([-3.14,-3.14/2,0,3.14/2,3.14],fontsize=35)\n",
    "     plt.tick_params(labelsize=18)\n",
    "     plt.show()\n",
    "    return\n",
    "\n",
    "\n"
   ]
  },
  {
   "cell_type": "markdown",
   "metadata": {},
   "source": [
    "***HOMEWORK Problem 3***\n",
    "\n",
    "**Identify a residue that has 2 rotameric states and make representative snapshots to illustrate the 2 conformations (or a single snapshot with an overlay of two representative conformations).  Can you identify any other structural changes in the vicinity of that residue that favor the 2nd conformation.  Make a plot of the Chi 1 histogram (or Chi1/Chi2 if the residue has a Chi2 degree of freedom) and add a marking to the plot to indicate the dihedrals shown in your snapshot**\n",
    "\n"
   ]
  },
  {
   "cell_type": "markdown",
   "metadata": {},
   "source": [
    "I found the residues for questions 3 and 4 by plotting all of the 2-d histograms and inspecting the plots. I deleted them after to make the notebook less ugly"
   ]
  },
  {
   "cell_type": "code",
   "execution_count": null,
   "metadata": {},
   "outputs": [],
   "source": [
    "#find frames"
   ]
  },
  {
   "cell_type": "code",
   "execution_count": 295,
   "metadata": {},
   "outputs": [],
   "source": [
    "frame_chi1 = []\n",
    "for i,j in [[-1,-.99],[1,1.2]]:\n",
    "    idx = np.where((i<dihedral_dict[\"chi1\"][313])&(dihedral_dict[\"chi1\"][313]<j))\n",
    "    frame_chi1.append(idx)"
   ]
  },
  {
   "cell_type": "code",
   "execution_count": 323,
   "metadata": {},
   "outputs": [
    {
     "name": "stdout",
     "output_type": "stream",
     "text": [
      "76 -0.9943941 -3.0702147\n",
      "139 -0.99428254 -3.1094978\n",
      "422 -0.9949162 -3.0890524\n",
      "1068 -0.9916526 -3.0268345\n",
      "1413 -0.9917556 -3.050051\n",
      "2023 -0.99777305 -3.102738\n",
      "3455 -0.997642 -3.1056783\n"
     ]
    }
   ],
   "source": [
    "for i in frame_chi1[0][0].tolist():\n",
    "    if (dihedral_dict[\"chi2\"][313][i]<-3):\n",
    "        print(i,dihedral_dict[\"chi1\"][313][i],dihedral_dict[\"chi2\"][313][i])"
   ]
  },
  {
   "cell_type": "code",
   "execution_count": 326,
   "metadata": {},
   "outputs": [
    {
     "name": "stdout",
     "output_type": "stream",
     "text": [
      "249 1.0022564 3.0888762\n",
      "270 1.1915543 3.0876231\n",
      "282 1.0260859 3.1393442\n",
      "293 1.0800049 3.0591877\n",
      "297 1.0229907 3.0400715\n",
      "299 1.0463433 3.085641\n",
      "302 1.0788814 3.0278533\n",
      "348 1.1770334 3.0836587\n",
      "548 1.1178141 3.0588784\n",
      "562 1.1972903 3.0569065\n",
      "573 1.1977601 3.0485337\n",
      "576 1.0621028 3.018173\n",
      "586 1.0736216 3.1374238\n",
      "604 1.0957348 3.1147916\n",
      "605 1.1111798 3.0330787\n",
      "609 1.0047358 3.0096807\n",
      "611 1.0448698 3.0534725\n",
      "858 1.0456294 3.1181831\n",
      "1012 1.0912589 3.072296\n",
      "1016 1.1297258 3.0502822\n",
      "1018 1.1058543 3.0679767\n",
      "1022 1.0645319 3.0318344\n",
      "1028 1.1190298 3.0275028\n",
      "1326 1.0372356 3.0619614\n",
      "1337 1.1783873 3.1408076\n",
      "1349 1.1234546 3.025751\n",
      "1350 1.1174859 3.1055892\n",
      "1355 1.1828866 3.0038056\n",
      "1365 1.1653407 3.033933\n",
      "1372 1.1674187 3.106042\n",
      "1373 1.0643319 3.114957\n",
      "1374 1.1390667 3.0643463\n",
      "1377 1.1587352 3.1106627\n",
      "2274 1.1981088 3.0559554\n",
      "2280 1.0848556 3.0187979\n",
      "2282 1.0356883 3.0876212\n",
      "2284 1.0670277 3.0949883\n",
      "2300 1.1640174 3.117835\n",
      "2312 1.1029283 3.1374848\n",
      "2321 1.0917066 3.134095\n",
      "2333 1.1569579 3.1298587\n",
      "2335 1.1824737 3.057273\n",
      "2339 1.1989918 3.0869086\n",
      "2342 1.1867354 3.0832152\n",
      "2344 1.0436304 3.0694563\n",
      "2346 1.1723526 3.1220055\n",
      "2348 1.0623895 3.0703053\n",
      "2349 1.1898857 3.1304383\n",
      "2355 1.0743098 3.059507\n",
      "2357 1.1115228 3.0485458\n",
      "2367 1.1357515 3.1349952\n",
      "2371 1.061433 3.0467138\n",
      "2380 1.157109 3.0989833\n",
      "2383 1.1357764 3.0769491\n",
      "2386 1.1932205 3.1379714\n",
      "2388 1.1421484 3.0881038\n",
      "2393 1.1417104 3.069217\n",
      "2400 1.0523455 3.135365\n",
      "2418 1.0300049 3.029387\n",
      "2435 1.0046988 3.090605\n",
      "2438 1.1481749 3.0405145\n",
      "2449 1.1047207 3.022755\n",
      "2452 1.0217773 3.1047084\n",
      "2457 1.1967702 3.1213658\n",
      "2467 1.1226988 3.043269\n",
      "2469 1.0035899 3.0083354\n",
      "2470 1.1994858 3.078214\n",
      "2477 1.0097167 3.065472\n",
      "2487 1.0093111 3.1353388\n",
      "2494 1.1722257 3.086586\n",
      "2495 1.1930256 3.0509758\n",
      "2497 1.097116 3.0487216\n",
      "2506 1.0176501 3.093126\n",
      "2516 1.1758785 3.130608\n",
      "2528 1.1698363 3.0122733\n",
      "2547 1.1226411 3.1230478\n",
      "2558 1.0687324 3.0969334\n",
      "2559 1.168413 3.0030692\n",
      "2560 1.0660253 3.0153375\n",
      "2562 1.1873304 3.1339548\n",
      "2567 1.1522868 3.0756369\n",
      "2576 1.1781638 3.112316\n",
      "2577 1.1064048 3.0032406\n",
      "2608 1.0784936 3.0980651\n",
      "2616 1.1345091 3.1135752\n",
      "2617 1.1490375 3.062119\n",
      "2627 1.1032871 3.0762498\n",
      "2643 1.0792394 3.0201917\n",
      "2650 1.1008494 3.0762548\n",
      "2672 1.0174267 3.1366627\n",
      "2673 1.0841538 3.0148973\n",
      "2674 1.1204697 3.1227956\n",
      "2689 1.0538889 3.1152112\n",
      "2700 1.1170932 3.1241891\n",
      "2704 1.1224185 3.1155512\n",
      "2715 1.1818751 3.0400941\n",
      "2719 1.0314851 3.0580103\n",
      "2722 1.0770624 3.028898\n",
      "2724 1.0792856 3.0326884\n",
      "2733 1.0707054 3.0705636\n",
      "2739 1.0707839 3.127085\n",
      "2740 1.17863 3.0759182\n",
      "2749 1.0006942 3.0959194\n",
      "2753 1.0296127 3.099066\n",
      "2756 1.184796 3.0425882\n",
      "2759 1.1559283 3.1076698\n",
      "2760 1.1159825 3.023241\n",
      "2762 1.0861317 3.0670257\n",
      "2771 1.0526217 3.058476\n",
      "2780 1.0659807 3.0308466\n",
      "2800 1.121527 3.0125828\n",
      "2802 1.1389354 3.0433981\n",
      "2809 1.0293744 3.0741467\n",
      "2823 1.002486 3.0787292\n",
      "2846 1.1459757 3.0203004\n",
      "2849 1.0617783 3.0474603\n",
      "2864 1.1437665 3.0867195\n",
      "3382 1.172049 3.0334296\n",
      "3504 1.1391337 3.090638\n",
      "3508 1.0797973 3.08133\n",
      "3571 1.0703369 3.1108422\n",
      "3696 1.001956 3.1249435\n",
      "3702 1.1851034 3.131889\n",
      "3709 1.1493422 3.098615\n",
      "3710 1.0668267 3.0410295\n",
      "3723 1.1581781 3.0641992\n",
      "3753 1.1965171 3.0208826\n",
      "3758 1.13198 3.0060215\n",
      "3780 1.1901188 3.0405898\n",
      "3799 1.0605072 3.1161425\n",
      "3811 1.0665412 3.010731\n",
      "3815 1.111201 3.1336982\n",
      "3817 1.1758957 3.0567548\n",
      "3834 1.0531857 3.0566192\n",
      "3843 1.0327239 3.020855\n",
      "3846 1.0143479 3.0188346\n",
      "3863 1.0532223 3.0064473\n",
      "3869 1.0510914 3.0136707\n",
      "3880 1.175513 3.0977206\n",
      "3889 1.0930697 3.1404562\n",
      "3902 1.1133671 3.0458853\n",
      "3912 1.1850677 3.0804973\n",
      "3913 1.1760927 3.0806384\n",
      "3940 1.0765685 3.0707107\n",
      "3945 1.0731682 3.0111086\n",
      "3952 1.1302344 3.041286\n",
      "3954 1.0762787 3.1020875\n",
      "3959 1.0461751 3.0627797\n",
      "3962 1.0598966 3.0070364\n",
      "3965 1.1215526 3.0094283\n",
      "3969 1.1151063 3.0584486\n",
      "3974 1.1274387 3.0283606\n",
      "3982 1.1574023 3.0404234\n",
      "3985 1.1978616 3.0376418\n",
      "3987 1.0963918 3.0040402\n"
     ]
    }
   ],
   "source": [
    "for i in frame_chi1[1][0].tolist():\n",
    "    if (dihedral_dict[\"chi2\"][313][i]>3):\n",
    "        print(i,dihedral_dict[\"chi1\"][313][i],dihedral_dict[\"chi2\"][313][i])"
   ]
  },
  {
   "cell_type": "code",
   "execution_count": 324,
   "metadata": {},
   "outputs": [
    {
     "name": "stdout",
     "output_type": "stream",
     "text": [
      "state 1 chi1: -0.99777305 chi2: -3.0702147\n"
     ]
    }
   ],
   "source": [
    "print(\"state 1\",\"chi1:\",dihedral_dict[\"chi1\"][313][2023],\"chi2:\",dihedral_dict[\"chi2\"][313][76])"
   ]
  },
  {
   "cell_type": "code",
   "execution_count": 327,
   "metadata": {},
   "outputs": [
    {
     "name": "stdout",
     "output_type": "stream",
     "text": [
      "state 2 chi1: 1.1151063 chi2: 3.0584486\n"
     ]
    }
   ],
   "source": [
    "print(\"state 2\",\"chi1:\",dihedral_dict[\"chi1\"][313][3969],\"chi2:\",dihedral_dict[\"chi2\"][313][3969])"
   ]
  },
  {
   "cell_type": "code",
   "execution_count": 404,
   "metadata": {},
   "outputs": [
    {
     "name": "stdout",
     "output_type": "stream",
     "text": [
      "The state 1 marker is hard to see but the point it is plotted at is printed above\n"
     ]
    },
    {
     "data": {
      "text/plain": [
       "Text(0, 0.5, '$\\\\chi_2$')"
      ]
     },
     "execution_count": 404,
     "metadata": {},
     "output_type": "execute_result"
    },
    {
     "data": {
      "image/png": "[encoded data removed]",
      "text/plain": [
       "<Figure size 432x288 with 1 Axes>"
      ]
     },
     "metadata": {
      "needs_background": "light"
     },
     "output_type": "display_data"
    }
   ],
   "source": [
    "print(\"The state 1 marker is hard to see but the point it is plotted at is printed above\")\n",
    "plt.hist2d(dihedral_dict[\"chi1\"][313],dihedral_dict[\"chi2\"][313],bins=36,range=[[-3.14,3.14],[-3.14,3.14]], norm=colors.LogNorm(),cmap='jet')\n",
    "plt.annotate(\"1\",(dihedral_dict[\"chi1\"][313][2023],dihedral_dict[\"chi2\"][313][2023]),color=\"black\",size=\"30\")\n",
    "plt.annotate(\"2\",(dihedral_dict[\"chi1\"][313][3969],dihedral_dict[\"chi2\"][313][3969]),color=\"black\",size=\"30\")\n",
    "plt.title(\"$\\chi1$ v $\\chi2$ basins - res 463 - problem 3\")\n",
    "plt.xlabel('$\\chi_1$', size=18)\n",
    "plt.ylabel('$\\chi_2$', size=18)"
   ]
  },
  {
   "cell_type": "markdown",
   "metadata": {},
   "source": [
    "the structures for probs 3,4 are going to be dislayed in the same manner as above"
   ]
  },
  {
   "cell_type": "code",
   "execution_count": 330,
   "metadata": {},
   "outputs": [],
   "source": [
    "frame_sel2 = np.array([2023,3969])"
   ]
  },
  {
   "cell_type": "code",
   "execution_count": 392,
   "metadata": {},
   "outputs": [
    {
     "data": {
      "application/vnd.jupyter.widget-view+json": {
       "model_id": "f893ef3d18944cdb9416d4c305a2a67d",
       "version_major": 2,
       "version_minor": 0
      },
      "text/plain": [
       "NGLWidget(count=2)"
      ]
     },
     "metadata": {},
     "output_type": "display_data"
    }
   ],
   "source": [
    "\"\"\"first structure is basin 1,second is basin 2\"\"\"\n",
    "t2 = nv.MDTrajTrajectory(trj[frame_sel2])\n",
    "view2 = nv.NGLWidget(t2)\n",
    "view2"
   ]
  },
  {
   "cell_type": "code",
   "execution_count": 393,
   "metadata": {},
   "outputs": [],
   "source": [
    "view2.clear_representations()\n",
    "view2.add_cartoon(color=\"blue\",opacity=.1)\n",
    "view2.add_licorice(\"313\")"
   ]
  },
  {
   "cell_type": "markdown",
   "metadata": {},
   "source": [
    "***HOMEWORK Problem 4***\n",
    "\n",
    "**Identify a residue that has 2 phi/psi free energy minima states and make representative snapshots to illustrate representative conformations (or a single snapshot with an overlay of two representative conformations).  Can you identify any other structural changes in the vicinity of that residue that favor the 2nd conformation.  Make a plot of the phi/psi histograms and add marking to the plot to indicate the phi/psi angles shown in your snapshot**\n"
   ]
  },
  {
   "cell_type": "code",
   "execution_count": 224,
   "metadata": {},
   "outputs": [],
   "source": [
    "phi_ = dihedral_dict[\"phi\"][463]\n",
    "psi_ = dihedral_dict[\"psi\"][463]"
   ]
  },
  {
   "cell_type": "code",
   "execution_count": 229,
   "metadata": {},
   "outputs": [
    {
     "name": "stdout",
     "output_type": "stream",
     "text": [
      "101 -1.2504597 -0.04631483\n",
      "103 -1.1202729 0.049379524\n",
      "105 -1.3341402 0.03123042\n",
      "110 -1.4911729 -0.037133943\n",
      "111 -1.3313292 0.049808208\n",
      "124 -1.2430017 -0.02315483\n",
      "147 -1.0712051 0.028988494\n",
      "150 -1.0274483 0.076533325\n",
      "338 -1.3057225 0.09057782\n",
      "342 -1.324419 0.019896552\n",
      "499 -1.0860434 -0.048617776\n",
      "500 -1.2630635 0.028313521\n",
      "511 -1.3193038 0.041569956\n",
      "512 -1.1719674 0.019514559\n",
      "514 -1.3261836 0.0491148\n",
      "518 -1.0147713 0.0038418032\n",
      "519 -1.3110688 0.040311337\n",
      "527 -1.4916224 -0.0026654082\n",
      "529 -1.1863815 -0.03488731\n",
      "530 -1.461447 -0.068875074\n",
      "538 -1.2671168 -0.010277212\n",
      "542 -1.3241479 0.01861788\n",
      "547 -1.2369841 0.016377771\n",
      "549 -1.3874228 0.058454335\n",
      "563 -1.3109647 -0.08135708\n",
      "564 -1.3995675 -0.0022638878\n",
      "571 -1.184519 -0.051258773\n",
      "574 -1.391837 0.03982842\n",
      "575 -1.3418717 0.058017768\n",
      "576 -1.1394043 0.09989358\n",
      "578 -1.260535 0.053552166\n",
      "580 -1.0945789 -0.09501191\n",
      "581 -1.4096389 0.06980163\n",
      "587 -1.3851802 0.06038924\n",
      "588 -1.1847333 0.03639809\n",
      "592 -1.2089264 -0.033250105\n",
      "594 -1.3369038 0.06459963\n",
      "597 -1.3126923 0.07595543\n",
      "601 -1.313707 -0.03916185\n",
      "613 -1.1542553 -0.06168403\n",
      "618 -1.4923643 0.029219951\n",
      "619 -1.2837431 -0.038798995\n",
      "624 -1.4270794 -0.027886266\n",
      "627 -1.2083665 0.06498572\n",
      "629 -1.2452586 0.051369384\n",
      "630 -1.1145701 0.085012384\n",
      "637 -1.3032266 -0.006719919\n",
      "638 -1.1283497 -0.0660848\n",
      "650 -1.4784049 0.096435845\n",
      "656 -1.3853978 -0.05084529\n",
      "659 -1.3170865 -0.058944553\n",
      "673 -1.383972 -0.020585464\n",
      "676 -1.4696488 -0.02971655\n",
      "687 -1.2778479 -0.013935767\n",
      "688 -1.3170161 0.021036388\n",
      "690 -1.3068209 0.018940859\n",
      "704 -1.2166855 0.055308636\n",
      "706 -1.2115718 0.07433848\n",
      "711 -1.2297142 0.08871006\n",
      "730 -1.0560062 0.015717374\n",
      "734 -1.3845447 0.04089427\n",
      "738 -1.287836 -0.00824995\n",
      "741 -1.2917825 0.066827275\n",
      "779 -1.2590055 -0.041094106\n",
      "795 -1.2438426 0.04889651\n",
      "817 -1.2450702 0.06477339\n",
      "835 -1.0602461 -0.040717386\n",
      "843 -1.4306087 0.08621674\n",
      "867 -1.3394953 0.09550807\n",
      "868 -1.3207442 0.023502447\n",
      "875 -1.070058 -0.035516225\n",
      "881 -1.3395225 -0.08996919\n",
      "1273 -1.2745605 0.017156595\n",
      "1275 -1.4858217 -0.0016237858\n",
      "1277 -1.4701881 0.09883015\n",
      "1280 -1.2515963 0.013396173\n",
      "1282 -1.2492317 0.03925544\n",
      "1284 -1.1893557 -0.09409702\n",
      "1286 -1.3643095 -0.06822603\n",
      "1292 -1.1263642 0.08641276\n",
      "1296 -1.3903087 0.04528574\n",
      "1304 -1.3323268 -0.024248958\n",
      "1320 -1.1392099 -0.012718169\n",
      "1325 -1.4029596 0.09775527\n",
      "1353 -1.3475832 -0.08081379\n",
      "1620 -1.2319499 0.030315498\n",
      "1623 -1.3847221 0.028939217\n",
      "1625 -1.4495208 -0.086005114\n",
      "1646 -1.2861745 -0.03833985\n",
      "1651 -1.2183278 0.08410793\n",
      "1658 -1.36426 0.09353963\n",
      "1660 -1.1605065 0.056106925\n",
      "1666 -1.3386518 0.07483011\n",
      "1667 -1.02379 0.0072902394\n",
      "1668 -1.1340681 -0.0590585\n",
      "1671 -1.3032784 -0.010211385\n",
      "1679 -1.2146066 -0.065396145\n",
      "1682 -1.3085859 -0.04475236\n",
      "1686 -1.3287476 -0.0105025135\n",
      "1687 -1.2637935 -0.048540443\n",
      "1698 -1.4497936 0.078259714\n",
      "2011 -1.2957466 -0.040626045\n",
      "2017 -1.3717688 -0.08296144\n",
      "2298 -1.2926836 -0.047769174\n",
      "2305 -1.3079611 0.05791283\n",
      "2306 -1.4914843 -0.06981187\n",
      "2332 -1.4402626 0.049288597\n",
      "2333 -1.1824701 0.060927927\n",
      "2334 -1.1748682 -0.047293797\n",
      "2335 -1.4737562 -0.067288555\n",
      "2337 -1.4718392 0.07540816\n",
      "2338 -1.1805415 0.043734815\n",
      "2339 -1.4426403 0.03963101\n",
      "2346 -1.1496432 -0.008562718\n",
      "2348 -1.0216614 0.067264065\n",
      "2351 -1.3859487 0.090200886\n",
      "2352 -1.3161621 0.040558483\n",
      "2353 -1.0805017 -0.05395798\n",
      "2355 -1.3822284 0.06988601\n",
      "2371 -1.4270146 0.09054\n",
      "2387 -1.4510819 0.018641109\n",
      "2403 -1.1996636 0.09348081\n",
      "2409 -1.2409676 0.059753362\n",
      "2411 -1.200747 0.0025588006\n",
      "2413 -1.0366405 -0.05041837\n",
      "2415 -1.0440174 -0.089153714\n",
      "2419 -1.0944442 -0.09360773\n",
      "2428 -1.4120729 0.08978557\n",
      "2430 -1.3778868 0.015411946\n",
      "2431 -1.2043962 -0.041038495\n",
      "2433 -1.493675 -0.08090687\n",
      "2438 -1.1295282 0.0022508942\n",
      "2439 -1.2478206 0.009294315\n",
      "2440 -1.435415 -0.061316267\n",
      "2447 -1.193979 0.09484708\n",
      "2450 -1.4551978 0.09661424\n",
      "2453 -1.4906323 -0.03764192\n",
      "2455 -1.3371072 0.0607565\n",
      "2457 -1.3334293 -0.03813303\n",
      "2462 -1.1334997 -0.09905407\n",
      "2464 -1.2956538 0.039089452\n",
      "2466 -1.0904828 -0.024948359\n",
      "2468 -1.3267287 0.034754343\n",
      "2469 -1.3916918 0.03438343\n",
      "2490 -1.2984778 0.012497257\n",
      "2504 -1.1264706 0.051321585\n",
      "2507 -1.1022851 0.0014152029\n",
      "2519 -1.434102 -0.075701416\n",
      "2525 -1.3465675 -0.03462225\n",
      "2526 -1.136915 0.029763857\n",
      "2528 -1.2495521 -0.04486621\n",
      "2647 -1.4554898 0.09113661\n",
      "2650 -1.1888115 -0.086723045\n",
      "2668 -1.25123 0.03938524\n",
      "2669 -1.0661433 0.041179232\n",
      "2677 -1.3335915 0.030089447\n",
      "2678 -1.4207242 0.0005505119\n",
      "2681 -1.1546494 0.022438461\n",
      "2690 -1.3648754 -0.00091800914\n",
      "2700 -1.4348943 -0.07859943\n",
      "2973 -1.3906941 -0.004412345\n",
      "2974 -1.4683539 0.09683651\n",
      "2975 -1.0848732 -0.06910172\n",
      "2980 -1.4059525 0.045173544\n",
      "3118 -1.4732383 0.009217596\n",
      "3139 -1.4738226 -0.051724397\n",
      "3152 -1.3856148 0.08948941\n",
      "3172 -1.3414925 -0.046554748\n",
      "3182 -1.4186137 -0.060688566\n",
      "3185 -1.4325416 0.0070383227\n",
      "3203 -1.4154893 -0.06432964\n",
      "3217 -1.4817944 -0.046298098\n",
      "3221 -1.4414952 -0.05816808\n",
      "3225 -1.0871093 -0.08509698\n",
      "3246 -1.1975186 -0.008244696\n",
      "3248 -1.185519 -0.003901931\n",
      "3256 -1.4896181 0.0077574044\n",
      "3260 -1.0781947 0.029909268\n",
      "3478 -1.1736133 -0.07800755\n",
      "3618 -1.3493154 -0.053453196\n",
      "3619 -1.0722944 -0.07692565\n",
      "3624 -1.2374878 -0.028517358\n",
      "3625 -1.1364876 -0.06918134\n",
      "3629 -1.4005678 -0.09148803\n",
      "3632 -1.4207051 -0.008618415\n",
      "3637 -1.3730769 -0.015607446\n",
      "3646 -1.3513178 0.079254344\n",
      "3648 -1.1240735 -0.07301002\n",
      "3649 -1.334851 0.0750145\n",
      "3650 -1.1710306 0.011127403\n",
      "3651 -1.3670998 0.020330746\n",
      "3653 -1.3378252 0.0005831105\n",
      "3654 -1.1718326 0.07597244\n",
      "3663 -1.2944374 0.07704034\n",
      "3673 -1.4649197 -0.073603824\n",
      "3681 -1.3958135 0.04605057\n",
      "3683 -1.3949728 0.05944934\n",
      "3694 -1.3050754 0.06056039\n",
      "3716 -1.2274082 -0.08538808\n",
      "3718 -1.3857558 -0.04274029\n",
      "3726 -1.4497778 0.011182568\n",
      "3735 -1.3064349 0.08675478\n",
      "3737 -1.3441914 -0.007618904\n",
      "3742 -1.4284712 0.009625453\n",
      "3750 -1.4498911 0.029306611\n",
      "3754 -1.2700607 -0.021730978\n",
      "3760 -1.4566877 0.09507035\n",
      "3769 -1.4126201 0.004334557\n",
      "3770 -1.4206418 0.086320214\n",
      "3774 -1.2552588 -0.081407085\n",
      "3778 -1.1438749 -0.074130654\n",
      "3788 -1.4444927 0.02130146\n",
      "3795 -1.3247731 0.0012620591\n",
      "3873 -1.1472976 -0.03970908\n",
      "3877 -1.4867978 0.01762537\n",
      "3882 -1.1923407 -0.0043814583\n",
      "3889 -1.1873779 -0.08524901\n",
      "3896 -1.3063867 -0.08297933\n",
      "3897 -1.2661821 -0.03663135\n",
      "3905 -1.3954817 -0.049741745\n",
      "3906 -1.3454674 0.0005688574\n",
      "3910 -1.3665884 -0.09137257\n",
      "3914 -1.2673895 -0.0660463\n",
      "3918 -1.4393381 0.06481889\n",
      "3920 -1.3570873 0.013849893\n",
      "3921 -1.2800281 -0.011559452\n",
      "3922 -1.418074 -0.091831475\n",
      "3925 -1.143389 -0.013913762\n",
      "3926 -1.4925253 0.049641263\n",
      "3932 -1.1075346 0.074668825\n",
      "3935 -1.4630839 -0.008824167\n",
      "3941 -1.3915904 -0.07692248\n",
      "3955 -1.1674145 -0.04497915\n",
      "3960 -1.4077686 -0.014945943\n",
      "3961 -1.2539481 -0.020684663\n",
      "3964 -1.4273194 -0.08680108\n",
      "3967 -1.4759617 0.022310955\n",
      "3973 -1.2863429 0.07099007\n",
      "3974 -1.2612507 -0.021112058\n",
      "3977 -1.3596784 0.066620424\n",
      "3994 -1.4619209 -0.012264636\n",
      "3995 -1.247669 -0.06394538\n"
     ]
    }
   ],
   "source": [
    "#state 1\n",
    "for i in range(phi_.size):\n",
    "    if ((phi_[i]>-1.5)&(phi_[i]<-1)&(psi_[i]>-.1)&(psi_[i]<.1)):\n",
    "        print(i,phi_[i],psi_[i])"
   ]
  },
  {
   "cell_type": "code",
   "execution_count": 230,
   "metadata": {},
   "outputs": [
    {
     "name": "stdout",
     "output_type": "stream",
     "text": [
      "4 1.4625959 -0.09013622\n",
      "10 1.356667 -0.07680733\n",
      "13 1.3959825 0.087697536\n",
      "17 1.505033 -0.038686663\n",
      "45 1.38289 0.08815131\n",
      "46 1.5629958 0.045865864\n",
      "59 1.3646106 0.06490801\n",
      "62 1.4804446 0.011649858\n",
      "76 1.4206893 -0.09819879\n",
      "80 1.4223115 -0.061540753\n",
      "87 1.4766456 -0.08479457\n",
      "91 1.5376706 0.07822231\n",
      "94 1.579151 -0.033730578\n",
      "95 1.4823929 0.059769925\n",
      "97 1.3216103 0.000991808\n",
      "165 1.4020878 -0.04360031\n",
      "166 1.4060994 -0.06450735\n",
      "167 1.4052291 -0.008618786\n",
      "172 1.5420506 0.007911983\n",
      "180 1.3676424 0.055391733\n",
      "183 1.5517392 0.04199029\n",
      "184 1.331085 -0.063330404\n",
      "196 1.3365837 0.022315744\n",
      "198 1.3916676 -0.0728827\n",
      "199 1.3641357 -0.0035558695\n",
      "202 1.3354692 -0.00014368532\n",
      "206 1.3024151 0.08648793\n",
      "225 1.3944201 -0.03764662\n",
      "226 1.3883075 -0.031636734\n",
      "227 1.4984357 -0.06308304\n",
      "229 1.3167492 0.07484028\n",
      "260 1.5410258 -0.08685276\n",
      "262 1.5416237 -0.011945348\n",
      "282 1.3821448 -0.06340365\n",
      "289 1.6674874 -0.039915465\n",
      "292 1.3962803 -0.060064804\n",
      "301 1.3153932 -0.092982106\n",
      "303 1.4013165 -0.046759527\n",
      "314 1.4555814 -0.07602877\n",
      "329 1.4878744 -0.080075495\n",
      "330 1.3172373 -0.032724533\n",
      "346 1.3722417 -0.022429086\n",
      "354 1.4941863 -0.042159647\n",
      "358 1.4694264 0.023177203\n",
      "383 1.3537498 -0.07327507\n",
      "388 1.3501614 -0.00033585305\n",
      "390 1.3607731 0.045182683\n",
      "409 1.639292 -0.06543711\n",
      "418 1.5929435 -0.038740363\n",
      "421 1.3384862 0.009883819\n",
      "426 1.5772433 -0.05328903\n",
      "440 1.545172 0.05807277\n",
      "441 1.4359226 -0.031127566\n",
      "444 1.5718114 0.092813924\n",
      "465 1.3712194 -0.05929729\n",
      "470 1.4792312 0.01313051\n",
      "472 1.4070334 -0.094424166\n",
      "766 1.4289043 -0.052014552\n",
      "885 1.4857074 -0.051605783\n",
      "893 1.387141 -0.09463863\n",
      "909 1.3931723 -0.008723196\n",
      "918 1.4652572 -0.07029214\n",
      "927 1.6921568 0.009374308\n",
      "951 1.307661 0.05890764\n",
      "954 1.6464858 0.038058016\n",
      "985 1.6044794 -0.09198293\n",
      "1009 1.3860902 -0.02954092\n",
      "1010 1.404214 0.057437956\n",
      "1044 1.3367666 0.080746494\n",
      "1047 1.3455349 0.097873844\n",
      "1051 1.4059622 0.015074146\n",
      "1061 1.3642526 0.05544246\n",
      "1077 1.4542357 -0.043282684\n",
      "1096 1.3153558 0.091287576\n",
      "1109 1.5355121 -0.054885853\n",
      "1139 1.5591272 -0.09353097\n",
      "1141 1.3558584 0.080346294\n",
      "1156 1.4500847 0.00640644\n",
      "1164 1.6071543 -0.02272082\n",
      "1169 1.5245794 -0.053500168\n",
      "1173 1.3306125 -0.07850576\n",
      "1183 1.4538871 -0.0014781903\n",
      "1189 1.5150883 0.043641347\n",
      "1198 1.3401921 0.09181656\n",
      "1215 1.5534977 -0.024586186\n",
      "1216 1.3137486 0.09659834\n",
      "1222 1.4567578 -0.047804847\n",
      "1226 1.4518251 -0.06504992\n",
      "1235 1.4297125 -0.06598706\n",
      "1254 1.4416564 0.013761018\n",
      "1257 1.3356906 -0.0645326\n",
      "1258 1.4384209 0.09135643\n",
      "1363 1.3814297 0.07691975\n",
      "1364 1.3802578 0.09262026\n",
      "1366 1.5882859 0.054385614\n",
      "1367 1.3572686 0.021678042\n",
      "1390 1.3197984 -0.024130488\n",
      "1401 1.3905534 -0.009251564\n",
      "1404 1.371972 0.038641267\n",
      "1414 1.3648008 -0.08759551\n",
      "1416 1.351089 0.05821053\n",
      "1419 1.3705984 0.098032616\n",
      "1422 1.3745098 -0.03224841\n",
      "1432 1.3350949 -0.08568919\n",
      "1435 1.304683 -0.060589574\n",
      "1437 1.6133785 -0.003022492\n",
      "1441 1.3541185 0.045098778\n",
      "1449 1.4380947 -0.044712465\n",
      "1450 1.369088 0.004992966\n",
      "1506 1.3175559 0.0051690075\n",
      "1510 1.637259 -0.08451978\n",
      "1511 1.6102532 0.055070646\n",
      "1512 1.3025346 0.07376262\n",
      "1517 1.6268069 0.046250496\n",
      "1524 1.3598214 0.022332162\n",
      "1527 1.4715666 0.08405136\n",
      "1541 1.3555088 0.021354483\n",
      "1551 1.4012401 0.05981608\n",
      "1552 1.4707898 0.036441587\n",
      "1561 1.3810058 0.075773925\n",
      "1574 1.4717215 0.02860065\n",
      "1602 1.5800127 0.06593564\n",
      "1617 1.4338657 0.050707225\n",
      "1618 1.4021666 0.035662573\n",
      "1704 1.5358826 0.06828847\n",
      "1706 1.3225597 -0.08697582\n",
      "1711 1.4253274 0.08328245\n",
      "1724 1.3445942 -0.0030920112\n",
      "1729 1.5289729 0.049188036\n",
      "1749 1.3269072 -0.013920457\n",
      "1751 1.4937279 0.09687312\n",
      "1752 1.5250489 -0.055293187\n",
      "1754 1.4109609 0.07293677\n",
      "1760 1.3859813 0.08817535\n",
      "1761 1.3560426 0.09427295\n",
      "1766 1.4190935 -0.057955917\n",
      "1768 1.357604 -0.09080669\n",
      "1771 1.434827 0.019785365\n",
      "1781 1.4187274 0.08121315\n",
      "1784 1.3218281 -0.09647605\n",
      "1795 1.4509414 -0.077084064\n",
      "1807 1.4498347 -0.08248797\n",
      "1809 1.5711945 -0.077549726\n",
      "1818 1.3745522 0.08204844\n",
      "1823 1.4459071 -0.04668093\n",
      "1835 1.4081619 0.025669\n",
      "1844 1.3270688 -0.09154302\n",
      "1847 1.4106652 -0.053694762\n",
      "1849 1.4117364 -0.078766614\n",
      "1865 1.5346197 0.018049266\n",
      "1867 1.6541394 -0.0022418525\n",
      "1868 1.4649796 0.040993582\n",
      "1872 1.424905 -0.014006325\n",
      "1874 1.4502681 -0.003635261\n",
      "1889 1.4390839 -0.08218748\n",
      "1893 1.4002552 0.06786493\n",
      "1906 1.3273389 -0.07586958\n",
      "1910 1.4970506 -0.046702012\n",
      "1927 1.3561593 0.06378222\n",
      "1930 1.5466046 0.006451068\n",
      "1931 1.575398 -0.013766\n",
      "1932 1.3079554 0.011263344\n",
      "1936 1.3620017 0.06950565\n",
      "1959 1.5007595 -0.07578591\n",
      "1963 1.3180867 0.092006624\n",
      "1967 1.3084441 -0.039312553\n",
      "1970 1.3282682 0.07725808\n",
      "1971 1.3248518 0.06891451\n",
      "1973 1.302559 -0.059121136\n",
      "1975 1.3799117 0.0942303\n",
      "1977 1.4317709 0.06228476\n",
      "1978 1.3986882 0.07296771\n",
      "1989 1.3879755 0.08928592\n",
      "1993 1.3444524 -0.083723076\n",
      "2007 1.3660917 -0.002513249\n",
      "2023 1.6600342 -0.059432346\n",
      "2025 1.4325037 0.022734689\n",
      "2030 1.389125 0.03972921\n",
      "2033 1.305944 0.02248625\n",
      "2042 1.3244573 -0.09459603\n",
      "2065 1.3206471 -0.006542655\n",
      "2076 1.5166464 0.08390506\n",
      "2094 1.4922645 -0.043716438\n",
      "2098 1.6560597 -0.059613332\n",
      "2102 1.5355977 0.0044435174\n",
      "2105 1.4099878 0.09897351\n",
      "2106 1.4633822 -0.093199044\n",
      "2108 1.3272496 0.060640883\n",
      "2112 1.3648341 -0.02479348\n",
      "2117 1.4857504 0.087391876\n",
      "2125 1.4116491 -0.042982887\n",
      "2154 1.4139112 -0.025895586\n",
      "2165 1.3856422 0.061104927\n",
      "2176 1.3635318 0.051819995\n",
      "2183 1.373645 0.056799997\n",
      "2189 1.3423259 0.0043493556\n",
      "2197 1.4402317 0.09015712\n",
      "2208 1.3660922 0.051855817\n",
      "2220 1.6029156 0.06456981\n",
      "2232 1.4533614 0.07168714\n",
      "2236 1.4877802 -0.022114327\n",
      "2254 1.3391048 0.040739886\n",
      "2257 1.4628689 -0.09603572\n",
      "2275 1.4138486 0.02768881\n",
      "2278 1.6299101 0.070143834\n",
      "2282 1.3514993 0.06607383\n",
      "2292 1.3054653 0.0505044\n",
      "2562 1.3197179 -0.07769106\n",
      "2573 1.416147 -0.0064981896\n",
      "2575 1.3609102 0.013138386\n",
      "2592 1.5211126 -0.079788886\n",
      "2594 1.4017924 -0.047190282\n",
      "2610 1.3239241 0.056870896\n",
      "2611 1.4333652 0.06878497\n",
      "2707 1.4011393 -0.07964203\n",
      "2720 1.4729898 -0.043316234\n",
      "2728 1.3046019 0.061055977\n",
      "2732 1.3123782 -0.043271024\n",
      "2740 1.3088763 -0.08442879\n",
      "2741 1.3042375 -0.04528298\n",
      "2748 1.3150005 0.07858267\n",
      "2756 1.4978004 -0.08304784\n",
      "2766 1.3334714 0.08844301\n",
      "2795 1.5165218 -0.017790273\n",
      "2807 1.3624381 -0.02244124\n",
      "2810 1.5302368 -0.030169439\n",
      "2819 1.5133536 0.05915916\n",
      "2824 1.3566263 -0.04499003\n",
      "2827 1.3727753 -0.047196373\n",
      "2831 1.4665562 -0.085538775\n",
      "2837 1.4121122 -0.034629922\n",
      "2840 1.3791713 0.08267027\n",
      "2844 1.4607342 -0.038940877\n",
      "2846 1.449938 0.016966224\n",
      "2867 1.3166054 0.08935706\n",
      "2870 1.479051 0.017145004\n",
      "2882 1.5253295 -0.09167232\n",
      "2915 1.3793857 0.0045387615\n",
      "2934 1.5059857 0.09772274\n",
      "2947 1.6130229 -0.019235147\n",
      "2952 1.4602044 0.08297894\n",
      "2964 1.6490308 0.043863464\n",
      "2965 1.4399977 0.031295717\n",
      "2988 1.3508615 0.0011899512\n",
      "3010 1.3708131 0.009774773\n",
      "3015 1.3564304 0.06733386\n",
      "3029 1.4425321 -0.059198465\n",
      "3041 1.3411288 -0.092771664\n",
      "3043 1.3617204 -0.031360276\n",
      "3045 1.351791 -0.004503204\n",
      "3058 1.345975 -0.09385711\n",
      "3070 1.4887701 -0.0042854752\n",
      "3082 1.4637568 -0.049251705\n",
      "3089 1.4136364 -8.636475e-05\n",
      "3271 1.4974539 0.033580035\n",
      "3286 1.3166999 -0.06508983\n",
      "3288 1.3869969 0.08855684\n",
      "3291 1.3588676 0.05261259\n",
      "3294 1.3046439 0.082833335\n",
      "3299 1.307208 0.074297726\n",
      "3302 1.3829241 -0.086224206\n",
      "3306 1.3595862 -0.07252932\n",
      "3320 1.3718221 -0.014780378\n",
      "3326 1.477997 -0.001198496\n",
      "3334 1.5299356 0.05697554\n",
      "3335 1.3488859 -0.0031958895\n",
      "3337 1.4210163 0.07788475\n",
      "3378 1.3163378 -0.02797266\n",
      "3380 1.303968 -0.042744372\n",
      "3388 1.3238753 -0.06463215\n",
      "3394 1.3431958 0.08696262\n",
      "3407 1.4761392 -0.05217469\n",
      "3419 1.4690869 -0.025197672\n",
      "3420 1.4688123 -0.056402642\n",
      "3426 1.4663563 0.014821156\n",
      "3428 1.331829 0.011008905\n",
      "3451 1.3216612 0.010413834\n",
      "3460 1.3622196 -0.0016789469\n",
      "3463 1.3790662 -0.00927711\n",
      "3471 1.5374207 0.061787084\n",
      "3474 1.6422262 -0.014530584\n",
      "3486 1.3799634 0.066530935\n",
      "3494 1.6955742 0.015563345\n",
      "3513 1.4080763 -0.0038733894\n",
      "3519 1.6057166 0.026230186\n",
      "3522 1.5655142 0.0001181688\n",
      "3526 1.4545957 -0.035278857\n",
      "3530 1.4294027 -0.009589568\n",
      "3545 1.4412696 0.02587711\n",
      "3547 1.3921585 -0.011942533\n",
      "3554 1.3919061 -0.03698217\n",
      "3555 1.3084843 0.046314877\n",
      "3565 1.4552032 0.09960233\n",
      "3566 1.580438 -0.08875014\n",
      "3578 1.6133397 -0.05069876\n",
      "3596 1.5142677 -0.07042432\n",
      "3605 1.5729588 0.06097286\n",
      "3611 1.3629179 -0.04330924\n",
      "3801 1.5975145 -0.03826152\n",
      "3804 1.5476741 -0.06627945\n",
      "3815 1.409443 0.0038581286\n",
      "3836 1.3046143 -0.029492445\n",
      "3837 1.3108495 -0.02548201\n",
      "3838 1.4022806 -0.07891747\n",
      "3846 1.5883774 -0.080272004\n",
      "3856 1.4452673 -0.0019749235\n"
     ]
    }
   ],
   "source": [
    "#state 2\n",
    "for i in range(phi_.size):\n",
    "    if ((phi_[i]>1.3)&(phi_[i]<1.7)&(psi_[i]>-.1)&(psi_[i]<.1)):\n",
    "        print(i,phi_[i],psi_[i])"
   ]
  },
  {
   "cell_type": "code",
   "execution_count": 389,
   "metadata": {},
   "outputs": [
    {
     "data": {
      "text/plain": [
       "Text(0, 0.5, '$\\\\psi$')"
      ]
     },
     "execution_count": 389,
     "metadata": {},
     "output_type": "execute_result"
    },
    {
     "data": {
      "image/png": "[encoded data removed]",
      "text/plain": [
       "<Figure size 432x288 with 1 Axes>"
      ]
     },
     "metadata": {
      "needs_background": "light"
     },
     "output_type": "display_data"
    }
   ],
   "source": [
    "_=plt.hist2d(dihedral_dict[\"phi\"][463],dihedral_dict[\"psi\"][463],bins=36,range=[[-3.14,3.14],[-3.14,3.14]], norm=colors.LogNorm(),cmap='jet')\n",
    "plt.annotate(\"1\",(dihedral_dict[\"phi\"][463][105],dihedral_dict[\"psi\"][463][105]),color=\"black\",size=\"30\")\n",
    "plt.annotate(\"2\",(dihedral_dict[\"phi\"][463][10],dihedral_dict[\"psi\"][463][10]),color=\"black\",size=\"30\")\n",
    "plt.title(\"$\\phi$ v $\\psi$ basins - res 463 - problem 4 \")\n",
    "plt.xlabel('$\\phi$', size=18)\n",
    "plt.ylabel('$\\psi$', size=18)"
   ]
  },
  {
   "cell_type": "code",
   "execution_count": 337,
   "metadata": {},
   "outputs": [],
   "source": [
    "frame_sel3 = [105,10]"
   ]
  },
  {
   "cell_type": "code",
   "execution_count": 399,
   "metadata": {},
   "outputs": [
    {
     "data": {
      "application/vnd.jupyter.widget-view+json": {
       "model_id": "11b310c660384126b4272ddf5c642815",
       "version_major": 2,
       "version_minor": 0
      },
      "text/plain": [
       "NGLWidget(count=2)"
      ]
     },
     "metadata": {},
     "output_type": "display_data"
    }
   ],
   "source": [
    "\"\"\"first structure is basin 1,second is basin 2\n",
    "I put the residue of interest (463) in red and the surrounding 2 in licorice\"\"\"\n",
    "t3 = nv.MDTrajTrajectory(trj[frame_sel3])\n",
    "view3 = nv.NGLWidget(t3)\n",
    "view3"
   ]
  },
  {
   "cell_type": "code",
   "execution_count": 400,
   "metadata": {},
   "outputs": [],
   "source": [
    "view3.clear_representations()\n",
    "view3.add_cartoon(color=\"blue\",opacity=.1)\n",
    "view3.add_licorice(\"462, 463, 464\")\n",
    "view3.add_licorice(\"463\",color=\"red\")"
   ]
  },
  {
   "cell_type": "markdown",
   "metadata": {},
   "source": [
    "***Challenge Problem 2***\n",
    "\n",
    "**Identify a residue with phi/psi basins that favor distinct rotamers and make a plot of chi distributions for different regions of the phi/psi basins**\n",
    "residue == 400"
   ]
  },
  {
   "cell_type": "code",
   "execution_count": 381,
   "metadata": {},
   "outputs": [],
   "source": [
    "phi__ = dihedral_dict[\"phi\"][400]\n",
    "psi__ = dihedral_dict[\"psi\"][400]\n",
    "x1__ = dihedral_dict[\"chi1\"][400]\n",
    "x2__ = dihedral_dict[\"chi2\"][400]"
   ]
  },
  {
   "cell_type": "code",
   "execution_count": 374,
   "metadata": {},
   "outputs": [
    {
     "name": "stdout",
     "output_type": "stream",
     "text": [
      "-1.4205669 -0.48769945 280\n",
      "-1.3835229 -0.3101042 302\n",
      "-1.4106674 -0.33417308 303\n",
      "-1.3489742 -0.44494972 337\n",
      "-1.4841982 -0.4388828 1149\n",
      "-1.3523598 -0.3476779 1152\n",
      "-1.3368613 -0.34741294 1153\n",
      "-1.4353058 -0.3424476 1449\n",
      "-1.4303652 -0.3267569 1455\n",
      "-1.3041166 -0.33915174 1463\n",
      "-1.4009788 -0.38521147 1467\n",
      "-1.3040239 -0.37411436 1477\n",
      "-1.4939313 -0.34980327 1657\n",
      "-1.4504898 -0.4765669 1662\n",
      "-1.4029834 -0.3181271 1675\n",
      "-1.3980992 -0.4066735 1677\n",
      "-1.4649903 -0.31299123 1690\n",
      "-1.3705441 -0.47437036 1708\n",
      "-1.3460776 -0.3139605 1714\n",
      "-1.337243 -0.46754688 1743\n",
      "-1.4407505 -0.4638696 1747\n",
      "-1.3793097 -0.4099857 1766\n",
      "-1.3654392 -0.333231 1775\n",
      "-1.3842422 -0.32186732 1781\n",
      "-1.497178 -0.31892896 1789\n",
      "-1.3792018 -0.4785889 1794\n",
      "-1.3240027 -0.3344827 1795\n",
      "-1.3000528 -0.41193128 1807\n",
      "-1.3751247 -0.475588 1813\n",
      "-1.4598563 -0.31120682 1815\n",
      "-1.4811381 -0.4664334 1816\n",
      "-1.3252163 -0.44824353 1830\n",
      "-1.3799199 -0.35610285 1840\n",
      "-1.3376627 -0.47955447 1844\n",
      "-1.4922045 -0.40527096 1848\n",
      "-1.4046617 -0.3911053 1849\n",
      "-1.3354741 -0.4503284 1852\n",
      "-1.3290006 -0.4273269 1869\n",
      "-1.3732927 -0.4197023 1873\n",
      "-1.4777491 -0.44720173 1881\n",
      "-1.4875917 -0.49393317 1897\n",
      "-1.4262218 -0.3498222 1898\n",
      "-1.3842995 -0.4028202 1910\n",
      "-1.4584227 -0.3005375 1921\n",
      "-1.3697249 -0.47569582 1929\n",
      "-1.3511982 -0.35281447 1933\n",
      "-1.4017721 -0.48022118 1940\n",
      "-1.4282701 -0.47290447 1970\n",
      "-1.44268 -0.4541892 1972\n",
      "-1.4989457 -0.4186765 1980\n",
      "-1.3640113 -0.40758863 1990\n",
      "-1.4903058 -0.3309862 2018\n",
      "-1.3920951 -0.43023482 2037\n",
      "-1.4441192 -0.34695977 2044\n",
      "-1.4412642 -0.4238559 2049\n",
      "-1.3397236 -0.3465017 2053\n",
      "-1.3430834 -0.44026488 2068\n",
      "-1.422818 -0.35351098 2075\n",
      "-1.4977144 -0.36122844 2077\n",
      "-1.3483578 -0.44599468 2091\n",
      "-1.3574835 -0.45165858 2106\n",
      "-1.4658585 -0.44614097 2113\n",
      "-1.3532068 -0.48442104 2153\n",
      "-1.3051144 -0.3969435 2167\n",
      "-1.3517662 -0.4049044 2173\n",
      "-1.4291353 -0.4904677 2187\n",
      "-1.3498101 -0.40569022 2199\n",
      "-1.3227483 -0.44765508 2205\n",
      "-1.3225853 -0.3112769 2216\n",
      "-1.4545304 -0.33489588 2220\n",
      "-1.3659302 -0.43802917 2227\n",
      "-1.3107085 -0.48345557 2237\n",
      "-1.3559476 -0.4251332 2267\n",
      "-1.3008876 -0.44407248 2276\n",
      "-1.4298785 -0.3516309 2279\n",
      "-1.3617712 -0.35383934 2322\n",
      "-1.4054987 -0.4892404 2328\n",
      "-1.3320106 -0.31198022 2332\n",
      "-1.3343711 -0.4187288 2348\n",
      "-1.3529596 -0.31225556 2351\n",
      "-1.3603294 -0.3101829 2355\n",
      "-1.4206159 -0.3407405 2356\n",
      "-1.4495913 -0.47171286 2367\n",
      "-1.4535962 -0.4466688 2385\n",
      "-1.3549249 -0.3573948 2387\n",
      "-1.489106 -0.38388354 2406\n",
      "-1.3582382 -0.3431544 2409\n",
      "-1.4052749 -0.35355803 2411\n",
      "-1.3224338 -0.36389735 2412\n",
      "-1.4012467 -0.42068547 2414\n",
      "-1.4759258 -0.3838864 2450\n",
      "-1.396025 -0.43645948 2458\n",
      "-1.4372044 -0.3825876 2472\n",
      "-1.3473918 -0.47769412 2476\n",
      "-1.4524803 -0.36422926 2497\n",
      "-1.3312614 -0.47558737 2498\n",
      "-1.4049152 -0.34026894 2500\n",
      "-1.4313749 -0.32144472 2502\n",
      "-1.3196758 -0.37975302 2506\n",
      "-1.3226318 -0.36937916 2510\n",
      "-1.3553867 -0.49494642 2512\n",
      "-1.4300482 -0.36588082 2516\n",
      "-1.487249 -0.45297763 2518\n",
      "-1.3280246 -0.37961623 2521\n",
      "-1.3951151 -0.43270847 2523\n",
      "-1.4189997 -0.49257305 2536\n",
      "-1.3738027 -0.43088666 2540\n",
      "-1.4909031 -0.42408606 2544\n",
      "-1.3674635 -0.4064452 2562\n",
      "-1.3957075 -0.36979428 2589\n",
      "-1.4653817 -0.39893723 2600\n",
      "-1.3486023 -0.49026868 2609\n",
      "-1.4947206 -0.4630258 2611\n",
      "-1.3595749 -0.36580348 2773\n"
     ]
    }
   ],
   "source": [
    "#state 1\n",
    "st1_f = []\n",
    "for i in range(phi__.size):\n",
    "    if ((phi__[i]>-1.5)&(phi__[i]<-1.3)&(psi__[i]>-.5)&(psi__[i]<-.3)):\n",
    "        st1_f.append(i)\n",
    "        print(phi__[i],psi__[i],i)\n",
    "st1_arr = np.asarray(st1_f)"
   ]
  },
  {
   "cell_type": "code",
   "execution_count": 375,
   "metadata": {},
   "outputs": [
    {
     "name": "stdout",
     "output_type": "stream",
     "text": [
      "-2.5283127 2.7429993 163\n",
      "-2.6769476 2.7190695 444\n",
      "-2.5285535 2.701796 584\n",
      "-2.6140983 2.717492 646\n",
      "-2.5180204 2.7816536 766\n",
      "-2.6689548 2.711473 770\n",
      "-2.6483943 2.7024477 776\n",
      "-2.644389 2.7285295 796\n",
      "-2.6130066 2.7812796 831\n",
      "-2.6242952 2.7783134 1217\n",
      "-2.5237732 2.7595086 1393\n",
      "-2.5004268 2.7785532 2876\n",
      "-2.6272297 2.7144003 2880\n",
      "-2.636918 2.7089818 2888\n",
      "-2.6648293 2.7221947 2900\n",
      "-2.532639 2.730395 2922\n",
      "-2.639683 2.7120152 2937\n",
      "-2.6104927 2.7234778 2958\n",
      "-2.5020556 2.760771 2962\n",
      "-2.5199456 2.770015 2982\n",
      "-2.5509107 2.7176485 2998\n",
      "-2.687796 2.7027564 3005\n",
      "-2.5031364 2.770887 3013\n",
      "-2.5490646 2.7466354 3043\n",
      "-2.504815 2.7321565 3052\n",
      "-2.6863847 2.790394 3053\n",
      "-2.6972716 2.769025 3060\n",
      "-2.6542275 2.778911 3077\n",
      "-2.5945272 2.7869928 3101\n",
      "-2.5340712 2.7762954 3102\n",
      "-2.5625222 2.7518787 3105\n",
      "-2.6532247 2.7543268 3112\n",
      "-2.5150113 2.7491372 3121\n",
      "-2.5291932 2.7011995 3148\n",
      "-2.5294588 2.796052 3152\n",
      "-2.6884687 2.722001 3153\n",
      "-2.5921996 2.7224925 3155\n",
      "-2.5216787 2.7733233 3172\n",
      "-2.6794608 2.776339 3183\n",
      "-2.6884701 2.7304232 3203\n",
      "-2.559195 2.7513077 3210\n",
      "-2.604201 2.702842 3213\n",
      "-2.5635862 2.7353613 3215\n",
      "-2.5621011 2.7926416 3217\n",
      "-2.5633357 2.7705958 3220\n",
      "-2.597539 2.797936 3225\n",
      "-2.5752141 2.72307 3227\n",
      "-2.6955192 2.755838 3237\n",
      "-2.5753734 2.747787 3242\n",
      "-2.5942247 2.740715 3253\n",
      "-2.6707888 2.7165358 3275\n",
      "-2.5808544 2.7136223 3282\n",
      "-2.6719048 2.7900913 3286\n",
      "-2.5927157 2.717249 3297\n",
      "-2.6485186 2.7443159 3312\n",
      "-2.6113915 2.7170756 3342\n",
      "-2.516598 2.7933059 3347\n",
      "-2.500331 2.7963064 3350\n",
      "-2.5334606 2.7121646 3351\n",
      "-2.6513262 2.7035835 3401\n",
      "-2.657859 2.7354054 3410\n",
      "-2.63312 2.7064912 3414\n",
      "-2.6319304 2.7489166 3426\n",
      "-2.5828345 2.7376795 3427\n",
      "-2.520081 2.72104 3434\n",
      "-2.5722713 2.741142 3449\n",
      "-2.6051512 2.7084782 3456\n",
      "-2.5761745 2.7365825 3459\n",
      "-2.6344292 2.7577972 3473\n",
      "-2.6452353 2.7190106 3477\n",
      "-2.5471902 2.7525418 3482\n",
      "-2.6722522 2.7245426 3485\n",
      "-2.5794458 2.7092805 3488\n",
      "-2.5072043 2.7255237 3498\n",
      "-2.5413244 2.740168 3500\n",
      "-2.5601506 2.7374403 3501\n",
      "-2.5104573 2.7040393 3510\n",
      "-2.622521 2.7136824 3526\n",
      "-2.564491 2.7867508 3528\n",
      "-2.569446 2.7864377 3565\n",
      "-2.6658847 2.7033942 3574\n",
      "-2.5580525 2.7446325 3577\n",
      "-2.5546453 2.7457929 3587\n",
      "-2.6088388 2.780569 3588\n",
      "-2.5620162 2.7354543 3599\n",
      "-2.5232482 2.7316074 3644\n",
      "-2.6460488 2.7617466 3646\n",
      "-2.5194795 2.7991273 3649\n",
      "-2.5919843 2.721476 3651\n",
      "-2.560106 2.7158477 3652\n",
      "-2.5096269 2.7799037 3676\n",
      "-2.5186722 2.773393 3698\n",
      "-2.6113234 2.7099752 3717\n",
      "-2.5341477 2.7010837 3721\n",
      "-2.6069057 2.7269895 3723\n",
      "-2.5648544 2.7844067 3833\n",
      "-2.5342214 2.7069228 3834\n",
      "-2.64516 2.702762 3885\n",
      "-2.6591017 2.7301803 3923\n",
      "-2.689593 2.7636664 3926\n",
      "-2.5214586 2.7219796 3956\n",
      "-2.5407877 2.7650402 3957\n",
      "-2.5224888 2.7127578 3961\n",
      "-2.533859 2.7375293 3964\n",
      "-2.5682464 2.711437 3979\n",
      "-2.5109055 2.7724047 3988\n"
     ]
    }
   ],
   "source": [
    "#state 2\n",
    "st2_f = []\n",
    "for i in range(phi__.size):\n",
    "    if ((phi__[i]>-2.7)&(phi__[i]<-2.5)&(psi__[i]>2.7)&(psi__[i]<2.8)):\n",
    "        st2_f.append(i)\n",
    "        print(phi__[i],psi__[i],i)\n",
    "st2_arr = np.asarray(st2_f)"
   ]
  },
  {
   "cell_type": "code",
   "execution_count": 385,
   "metadata": {},
   "outputs": [],
   "source": [
    "i=280\n",
    "j=163"
   ]
  },
  {
   "cell_type": "code",
   "execution_count": 386,
   "metadata": {},
   "outputs": [
    {
     "data": {
      "text/plain": [
       "Text(0.5, 1.0, 'Dihedral Basins - res 400 - challenge problem 2')"
      ]
     },
     "execution_count": 386,
     "metadata": {},
     "output_type": "execute_result"
    },
    {
     "data": {
      "image/png": "[encoded data removed]",
      "text/plain": [
       "<Figure size 432x288 with 1 Axes>"
      ]
     },
     "metadata": {
      "needs_background": "light"
     },
     "output_type": "display_data"
    }
   ],
   "source": [
    "_=plt.hist2d(dihedral_dict[\"phi\"][400],dihedral_dict[\"psi\"][400],bins=36,range=[[-3.14,3.14],[-3.14,3.14]], norm=colors.LogNorm(),cmap='jet')\n",
    "plt.annotate(\"1\",(phi__[i],psi__[i]),color=\"black\",size=\"30\")\n",
    "plt.annotate(\"2\",(phi__[j],psi__[j]),color=\"black\",size=\"30\")\n",
    "plt.title(\"Annotated\")\n",
    "plt.xlabel('$\\phi$', size=18)\n",
    "plt.ylabel('$\\psi$', size=18)\n",
    "plt.title(\"Dihedral Basins - res 400 - challenge problem 2\")\n"
   ]
  },
  {
   "cell_type": "code",
   "execution_count": 387,
   "metadata": {},
   "outputs": [
    {
     "data": {
      "text/plain": [
       "Text(0.5, 1.0, '$\\\\chi2$ distribution for basin 2')"
      ]
     },
     "execution_count": 387,
     "metadata": {},
     "output_type": "execute_result"
    },
    {
     "data": {
      "image/png": "[encoded data removed]",
      "text/plain": [
       "<Figure size 720x720 with 4 Axes>"
      ]
     },
     "metadata": {
      "needs_background": "light"
     },
     "output_type": "display_data"
    }
   ],
   "source": [
    "#challenge problem 2\n",
    "fig,ax = plt.subplots(2,2,figsize=(10,10))\n",
    "ax[0,0].hist(x1__[st1_arr],bins=36)\n",
    "ax[0,1].hist(x2__[st1_arr],bins=36)\n",
    "ax[1,0].hist(x1__[st2_arr],bins=36)\n",
    "ax[1,1].hist(x2__[st2_arr],bins=36)\n",
    "ax[0,0].set_title(\"$\\chi1$ distribution for basin 1\")\n",
    "ax[0,1].set_title(\"$\\chi2$ distribution for basin 1\")\n",
    "ax[1,0].set_title(\"$\\chi1$ distribution for basin 2\")\n",
    "ax[1,1].set_title(\"$\\chi2$ distribution for basin 2\")"
   ]
  },
  {
   "cell_type": "code",
   "execution_count": 23,
   "metadata": {},
   "outputs": [
    {
     "data": {
      "image/png": "[encoded data removed]",
      "text/plain": [
       "<Figure size 432x288 with 2 Axes>"
      ]
     },
     "metadata": {
      "needs_background": "light"
     },
     "output_type": "display_data"
    }
   ],
   "source": [
    "#Lets Make A Pretty Free Energy Plot \n",
    "\n",
    "def plot_phipsi_FES(res):\n",
    " free_energy,xedges,yedges=np.histogram2d(dihedral_dict['phi'][res],dihedral_dict['psi'][res],36,[[-3.14,3.14],[-3.14,3.14]],normed=True,weights=None)\n",
    " free_energy=np.log(np.flipud(free_energy)+.000001)\n",
    " T=300                                                                                                  \n",
    " kbT=T*0.008314/4.184 # kT in kcal/mol\n",
    " dG=-(kbT)*free_energy #Convert to kcal/mol\n",
    " im=plt.imshow(dG, interpolation='gaussian',extent=[yedges[0], yedges[-1], xedges[0], xedges[-1]],cmap='jet',aspect='auto')\n",
    " cbar_ticks=[0,1,2,3]\n",
    " cb = plt.colorbar(ticks=cbar_ticks, format=('% .1f'), aspect=10) # grab the Colorbar instance\n",
    " imaxes = plt.gca()                                                                                                 \n",
    " plt.xticks([-3.14,-3.14/2,0,3.14/2,3.14],fontsize=35)\n",
    " plt.yticks([-3.14,-3.14/2,0,3.14/2,3.14],fontsize=35)\n",
    " plt.xlabel('$\\phi$', size=18)\n",
    " plt.ylabel('$\\psi$', size=18)\n",
    " plt.tick_params(labelsize=18)\n",
    " plt.axes(cb.ax)\n",
    " plt.clim(vmin=0.1,vmax=3.0)\n",
    " plt.yticks(size='26')\n",
    " plt.tight_layout()\n",
    " plt.show()\n",
    " return\n",
    "\n",
    "plot_phipsi_FES(350)"
   ]
  }
 ],
 "metadata": {
  "kernelspec": {
   "display_name": "Python 3 (ipykernel)",
   "language": "python",
   "name": "python3"
  },
  "language_info": {
   "codemirror_mode": {
    "name": "ipython",
    "version": 3
   },
   "file_extension": ".py",
   "mimetype": "text/x-python",
   "name": "python",
   "nbconvert_exporter": "python",
   "pygments_lexer": "ipython3",
   "version": "3.8.0"
  }
 },
 "nbformat": 4,
 "nbformat_minor": 4
}
